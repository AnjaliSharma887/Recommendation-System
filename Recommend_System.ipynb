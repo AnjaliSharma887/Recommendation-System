{
 "cells": [
  {
   "cell_type": "markdown",
   "id": "6f750f95",
   "metadata": {},
   "source": [
    "# E-COMMERCE PRODUCT RECOMMENDATION SYSTEM"
   ]
  },
  {
   "cell_type": "code",
   "execution_count": 6,
   "id": "4a136733",
   "metadata": {},
   "outputs": [],
   "source": [
    "import pandas as pd\n",
    "import numpy as np"
   ]
  },
  {
   "cell_type": "code",
   "execution_count": 20,
   "id": "756f750f",
   "metadata": {},
   "outputs": [
    {
     "data": {
      "text/html": [
       "<div>\n",
       "<style scoped>\n",
       "    .dataframe tbody tr th:only-of-type {\n",
       "        vertical-align: middle;\n",
       "    }\n",
       "\n",
       "    .dataframe tbody tr th {\n",
       "        vertical-align: top;\n",
       "    }\n",
       "\n",
       "    .dataframe thead th {\n",
       "        text-align: right;\n",
       "    }\n",
       "</style>\n",
       "<table border=\"1\" class=\"dataframe\">\n",
       "  <thead>\n",
       "    <tr style=\"text-align: right;\">\n",
       "      <th></th>\n",
       "      <th>uniq_id</th>\n",
       "      <th>crawl_timestamp</th>\n",
       "      <th>product_id</th>\n",
       "      <th>link</th>\n",
       "      <th>size</th>\n",
       "      <th>variant_sku</th>\n",
       "      <th>brand</th>\n",
       "      <th>care_instructions</th>\n",
       "      <th>dominant_material</th>\n",
       "      <th>title</th>\n",
       "      <th>...</th>\n",
       "      <th>product_details</th>\n",
       "      <th>size_fit</th>\n",
       "      <th>complete_the_look</th>\n",
       "      <th>type</th>\n",
       "      <th>variant_price</th>\n",
       "      <th>variant_compare_at_price</th>\n",
       "      <th>ideal_for</th>\n",
       "      <th>is_in_stock</th>\n",
       "      <th>inventory</th>\n",
       "      <th>specifications</th>\n",
       "    </tr>\n",
       "  </thead>\n",
       "  <tbody>\n",
       "    <tr>\n",
       "      <th>0</th>\n",
       "      <td>cc51c3dd925d9d84e2fb28c7918dbbc3</td>\n",
       "      <td>2019-08-11 05:49:46 +0000</td>\n",
       "      <td>6937673</td>\n",
       "      <td>https://www.myntra.com/tops/imara/imara-women-...</td>\n",
       "      <td>XL</td>\n",
       "      <td>6937673_XL</td>\n",
       "      <td>IMARA</td>\n",
       "      <td>Polyester | Dry-clean</td>\n",
       "      <td>Polyester</td>\n",
       "      <td>IMARA Women Black Solid Top</td>\n",
       "      <td>...</td>\n",
       "      <td>Black solid woven regular top,has a V-neck, th...</td>\n",
       "      <td>The model (height 5'8\") is wearing a size S</td>\n",
       "      <td>Improve your personal style with a brand new t...</td>\n",
       "      <td>Clothing/Women/Tops/IMARA/More by IMARA</td>\n",
       "      <td>959</td>\n",
       "      <td>1599</td>\n",
       "      <td>Women</td>\n",
       "      <td>Out of Stock</td>\n",
       "      <td>0</td>\n",
       "      <td>Transparency : Opaque | Sleeve Styling : Bell ...</td>\n",
       "    </tr>\n",
       "    <tr>\n",
       "      <th>1</th>\n",
       "      <td>c7e2fe388a93dae5c86b50dd8a5dbd7a</td>\n",
       "      <td>2019-07-03 01:04:34 +0000</td>\n",
       "      <td>7441182</td>\n",
       "      <td>https://www.myntra.com/kurtas/house-of-pataudi...</td>\n",
       "      <td>XL</td>\n",
       "      <td>7441182_XL</td>\n",
       "      <td>House of Pataudi</td>\n",
       "      <td>100% cottonMachine-wash</td>\n",
       "      <td>cotton</td>\n",
       "      <td>House of Pataudi Men Black Printed Straight Kurta</td>\n",
       "      <td>...</td>\n",
       "      <td>Black printed straight kurta, has a mandarin c...</td>\n",
       "      <td>The model (height 6') is wearing a size M</td>\n",
       "      <td>From House of Pataudi, this kurta is a great w...</td>\n",
       "      <td>Clothing/Men/Kurtas/House of Pataudi/More by H...</td>\n",
       "      <td>799</td>\n",
       "      <td>1999</td>\n",
       "      <td>Men</td>\n",
       "      <td>In Stock</td>\n",
       "      <td>Shape : Straight | Sleeve Styling : Regular Sl...</td>\n",
       "      <td>NaN</td>\n",
       "    </tr>\n",
       "    <tr>\n",
       "      <th>2</th>\n",
       "      <td>76949d78057a633aace6246045eefd66</td>\n",
       "      <td>2019-07-15 09:43:31 +0000</td>\n",
       "      <td>9245141</td>\n",
       "      <td>https://www.myntra.com/pillows/the-white-willo...</td>\n",
       "      <td>S</td>\n",
       "      <td>9245141_S</td>\n",
       "      <td>The White Willow</td>\n",
       "      <td>Polycotton | Only spot clean by hand with warm...</td>\n",
       "      <td>Cotton</td>\n",
       "      <td>The White Willow Unisex Off-White Therapedic M...</td>\n",
       "      <td>...</td>\n",
       "      <td>Set content: 1 pillow  Colour: Off white  Fill...</td>\n",
       "      <td>Dimensions: 58.42 cm x 33.02 cm x 10.16 cm</td>\n",
       "      <td>The White Willow has been founded with the vis...</td>\n",
       "      <td>Home/Unisex/Pillows/The White Willow/More by T...</td>\n",
       "      <td>1399</td>\n",
       "      <td>2799</td>\n",
       "      <td>Unisex</td>\n",
       "      <td>In Stock</td>\n",
       "      <td>Number of Components : 1 | Material : Polycott...</td>\n",
       "      <td>NaN</td>\n",
       "    </tr>\n",
       "    <tr>\n",
       "      <th>3</th>\n",
       "      <td>5f83f6b51da1ef93bc0585577b6991e6</td>\n",
       "      <td>2019-07-15 14:11:14 +0000</td>\n",
       "      <td>1314889</td>\n",
       "      <td>https://www.myntra.com/dupatta/dupatta-bazaar/...</td>\n",
       "      <td>Onesize</td>\n",
       "      <td>1314889_Onesize</td>\n",
       "      <td>Dupatta Bazaar</td>\n",
       "      <td>Chiffon | Hand-wash</td>\n",
       "      <td>Chiffon</td>\n",
       "      <td>Dupatta Bazaar Pink Dupatta</td>\n",
       "      <td>...</td>\n",
       "      <td>Pink dupatta&amp;nbsp;with crinkled effect</td>\n",
       "      <td>Length: 2.3 metres Width: 1.1 metres</td>\n",
       "      <td>Complement your ethnic ensemble with this dupa...</td>\n",
       "      <td>Clothing/Women/Dupatta/Dupatta Bazaar/More by ...</td>\n",
       "      <td>349</td>\n",
       "      <td>499</td>\n",
       "      <td>Women</td>\n",
       "      <td>In Stock</td>\n",
       "      <td>Pattern : Solid | Occasion : Daily | Border : ...</td>\n",
       "      <td>NaN</td>\n",
       "    </tr>\n",
       "    <tr>\n",
       "      <th>4</th>\n",
       "      <td>890bf4355c319a4211296b9d3176d11f</td>\n",
       "      <td>2019-06-01 08:17:28 +0000</td>\n",
       "      <td>7705322</td>\n",
       "      <td>https://www.myntra.com/kurta-sets/manyavar/man...</td>\n",
       "      <td>S</td>\n",
       "      <td>7705322_S</td>\n",
       "      <td>Manyavar</td>\n",
       "      <td>Top fabric: Silk Blend | Bottom fabric: Silk B...</td>\n",
       "      <td>Silk</td>\n",
       "      <td>Manyavar Men Yellow &amp; White Self Design Kurta ...</td>\n",
       "      <td>...</td>\n",
       "      <td>Yellow and white self design kurta with churid...</td>\n",
       "      <td>The model (height 6') is wearing a size M</td>\n",
       "      <td>From Manyavar, this kurta is a great way to sh...</td>\n",
       "      <td>Clothing/Men/Kurta Sets/Manyavar/More by Manyavar</td>\n",
       "      <td>2999</td>\n",
       "      <td>2999</td>\n",
       "      <td>Men</td>\n",
       "      <td>Out of Stock</td>\n",
       "      <td>Occasion : Festive | Number of Components : 2 ...</td>\n",
       "      <td>NaN</td>\n",
       "    </tr>\n",
       "  </tbody>\n",
       "</table>\n",
       "<p>5 rows × 25 columns</p>\n",
       "</div>"
      ],
      "text/plain": [
       "                            uniq_id            crawl_timestamp  product_id  \\\n",
       "0  cc51c3dd925d9d84e2fb28c7918dbbc3  2019-08-11 05:49:46 +0000     6937673   \n",
       "1  c7e2fe388a93dae5c86b50dd8a5dbd7a  2019-07-03 01:04:34 +0000     7441182   \n",
       "2  76949d78057a633aace6246045eefd66  2019-07-15 09:43:31 +0000     9245141   \n",
       "3  5f83f6b51da1ef93bc0585577b6991e6  2019-07-15 14:11:14 +0000     1314889   \n",
       "4  890bf4355c319a4211296b9d3176d11f  2019-06-01 08:17:28 +0000     7705322   \n",
       "\n",
       "                                                link     size  \\\n",
       "0  https://www.myntra.com/tops/imara/imara-women-...       XL   \n",
       "1  https://www.myntra.com/kurtas/house-of-pataudi...       XL   \n",
       "2  https://www.myntra.com/pillows/the-white-willo...        S   \n",
       "3  https://www.myntra.com/dupatta/dupatta-bazaar/...  Onesize   \n",
       "4  https://www.myntra.com/kurta-sets/manyavar/man...        S   \n",
       "\n",
       "       variant_sku             brand  \\\n",
       "0       6937673_XL             IMARA   \n",
       "1       7441182_XL  House of Pataudi   \n",
       "2        9245141_S  The White Willow   \n",
       "3  1314889_Onesize    Dupatta Bazaar   \n",
       "4        7705322_S          Manyavar   \n",
       "\n",
       "                                   care_instructions dominant_material  \\\n",
       "0                              Polyester | Dry-clean         Polyester   \n",
       "1                            100% cottonMachine-wash            cotton   \n",
       "2  Polycotton | Only spot clean by hand with warm...            Cotton   \n",
       "3                                Chiffon | Hand-wash           Chiffon   \n",
       "4  Top fabric: Silk Blend | Bottom fabric: Silk B...              Silk   \n",
       "\n",
       "                                               title  ...  \\\n",
       "0                        IMARA Women Black Solid Top  ...   \n",
       "1  House of Pataudi Men Black Printed Straight Kurta  ...   \n",
       "2  The White Willow Unisex Off-White Therapedic M...  ...   \n",
       "3                        Dupatta Bazaar Pink Dupatta  ...   \n",
       "4  Manyavar Men Yellow & White Self Design Kurta ...  ...   \n",
       "\n",
       "                                     product_details  \\\n",
       "0  Black solid woven regular top,has a V-neck, th...   \n",
       "1  Black printed straight kurta, has a mandarin c...   \n",
       "2  Set content: 1 pillow  Colour: Off white  Fill...   \n",
       "3             Pink dupatta&nbsp;with crinkled effect   \n",
       "4  Yellow and white self design kurta with churid...   \n",
       "\n",
       "                                      size_fit  \\\n",
       "0  The model (height 5'8\") is wearing a size S   \n",
       "1    The model (height 6') is wearing a size M   \n",
       "2  Dimensions: 58.42 cm x 33.02 cm x 10.16 cm    \n",
       "3         Length: 2.3 metres Width: 1.1 metres   \n",
       "4    The model (height 6') is wearing a size M   \n",
       "\n",
       "                                   complete_the_look  \\\n",
       "0  Improve your personal style with a brand new t...   \n",
       "1  From House of Pataudi, this kurta is a great w...   \n",
       "2  The White Willow has been founded with the vis...   \n",
       "3  Complement your ethnic ensemble with this dupa...   \n",
       "4  From Manyavar, this kurta is a great way to sh...   \n",
       "\n",
       "                                                type variant_price  \\\n",
       "0            Clothing/Women/Tops/IMARA/More by IMARA           959   \n",
       "1  Clothing/Men/Kurtas/House of Pataudi/More by H...           799   \n",
       "2  Home/Unisex/Pillows/The White Willow/More by T...          1399   \n",
       "3  Clothing/Women/Dupatta/Dupatta Bazaar/More by ...           349   \n",
       "4  Clothing/Men/Kurta Sets/Manyavar/More by Manyavar          2999   \n",
       "\n",
       "  variant_compare_at_price ideal_for   is_in_stock  \\\n",
       "0                     1599     Women  Out of Stock   \n",
       "1                     1999       Men      In Stock   \n",
       "2                     2799    Unisex      In Stock   \n",
       "3                      499     Women      In Stock   \n",
       "4                     2999       Men  Out of Stock   \n",
       "\n",
       "                                           inventory  \\\n",
       "0                                                  0   \n",
       "1  Shape : Straight | Sleeve Styling : Regular Sl...   \n",
       "2  Number of Components : 1 | Material : Polycott...   \n",
       "3  Pattern : Solid | Occasion : Daily | Border : ...   \n",
       "4  Occasion : Festive | Number of Components : 2 ...   \n",
       "\n",
       "                                      specifications  \n",
       "0  Transparency : Opaque | Sleeve Styling : Bell ...  \n",
       "1                                                NaN  \n",
       "2                                                NaN  \n",
       "3                                                NaN  \n",
       "4                                                NaN  \n",
       "\n",
       "[5 rows x 25 columns]"
      ]
     },
     "execution_count": 20,
     "metadata": {},
     "output_type": "execute_result"
    }
   ],
   "source": [
    "data = pd.read_csv('myntra_product.csv',on_bad_lines='skip')\n",
    "data.head(5)"
   ]
  },
  {
   "cell_type": "code",
   "execution_count": 49,
   "id": "66008fd3",
   "metadata": {},
   "outputs": [
    {
     "data": {
      "text/plain": [
       "Anouk            1690\n",
       "Biba             1074\n",
       "Shree             779\n",
       "Global Desi       759\n",
       "Libas             727\n",
       "                 ... \n",
       "Cottonworld         1\n",
       "Styles Closet       1\n",
       "Myshka              1\n",
       "aLL                 1\n",
       "AASK                1\n",
       "Name: brand, Length: 359, dtype: int64"
      ]
     },
     "execution_count": 49,
     "metadata": {},
     "output_type": "execute_result"
    }
   ],
   "source": [
    "data.brand.value_counts()"
   ]
  },
  {
   "cell_type": "code",
   "execution_count": 16,
   "id": "8541f4f3",
   "metadata": {},
   "outputs": [
    {
     "data": {
      "text/plain": [
       "array(['Women', 'Men', 'Unisex', 'Boys', 'Girls'], dtype=object)"
      ]
     },
     "execution_count": 16,
     "metadata": {},
     "output_type": "execute_result"
    }
   ],
   "source": [
    "#data[data['brand']=='Manyavar'] & data['ideal_for']=='men'\n",
    "data['ideal_for'].unique()"
   ]
  },
  {
   "cell_type": "code",
   "execution_count": 22,
   "id": "5b2d12e2",
   "metadata": {},
   "outputs": [
    {
     "data": {
      "text/plain": [
       "array(['IMARA', 'House of Pataudi', 'The White Willow', 'Dupatta Bazaar',\n",
       "       'Manyavar', 'Wintage', 'Geroo Jaipur', 'The Indian Garage Co',\n",
       "       'Anouk', 'SALWAR STUDIO', 'Clora Creation', 'Libas', 'Global Desi',\n",
       "       'Aj DEZInES', '612 league', 'Jompers', 'SOJANYA', 'W',\n",
       "       'Story@home', 'Ethnicity', 'British Club', 'Fabindia', 'Sangria',\n",
       "       'Svanik', 'Rohit Bal Limited', 'Ishin', 'See Designs', 'Biba',\n",
       "       'Purple State', 'Shree', 'SG YUVRAJ', 'even', 'Rajesh Silk Mills',\n",
       "       'Manu', 'I AM FOR YOU', 'CHRISTY', 'Abhiyuthan', 'Abhishti',\n",
       "       'I Know', 'pspeaches', 'HERE&NOW', 'Soch', 'Hangup', 'Twisha',\n",
       "       'Kira Plus', 'Nayo', 'K&U', 'AKS', 'GERUA', 'VASTRAMAY',\n",
       "       'TREEMODA', 'RARE ROOTS', 'Freehand', 'YK', 'BownBee', 'DEYANN',\n",
       "       'RAJUBHAI HARGOVINDAS', 'Vishudh', 'KAANCHIE NANGGIA', 'Varanga',\n",
       "       'The Magic Wand', 'Alina decor', 'Style Quotient', 'Cross Court',\n",
       "       'Solemio', 'all about you', 'Inddus', 'Gatha', 'Zotw',\n",
       "       'AKKRITI BY PANTALOONS', 'Peaches', 'Be Indi', 'SHOWOFF', 'Aarika',\n",
       "       'JBN Creation', 'Divine Casa', 'Bollywood Vogue', 'AURELIA',\n",
       "       'JAINISH', 'indus route by Pantaloons', 'Anekaant',\n",
       "       'Arch Elements', 'BOMBAY DYEING', 'MASPAR', 'Dazzio',\n",
       "       'Hypernation', 'Ira Soleil', 'Raymond Home', 'LilPicks', 'Jansons',\n",
       "       'Ethnix by Raymond', 'DDecor', 'La Firangi', 'INDYA', 'Sanjhi',\n",
       "       'irin', 'studio rasa', 'L.A. SEVEN', 'Khoday Williams',\n",
       "       'Bitterlime', 'SWAYAM', 'Very Me', 'BETTY', 'Banarasi Style',\n",
       "       'Moda Rapido', 'akavya', 'Rangriti', 'KISAH', 'Chitwan Mohan',\n",
       "       'Shaily', 'Ritu Kumar', 'Melange by Lifestyle', 'Sanwara',\n",
       "       'Bitiya by Bhama', 'Manish Creations', 'Trend Arrest',\n",
       "       'A.T.U.N All Things Uber Nice', 'RG DESIGNERS', 'ANAISA',\n",
       "       'ROYAL KURTA', 'CHILL WINSTON', 'Trident', 'Naari', 'TAG 7',\n",
       "       'Peter England', 'Fusion Beats', 'Jaipur Kurti', 'Terry Fator',\n",
       "       'SASSAFRAS', 'Nick&Jess', 'Tiber Taber', 'EverHOME',\n",
       "       'Nature Casuals', 'Shakumbhari', 'IVOC', 'Hubberholme',\n",
       "       'Rajasthan Decor', 'Aasvaa', 'PIVOTO', 'SUTRAM', 'MOHANLAL SONS',\n",
       "       'Pantaloons Junior', 'TABARD', 'KID1', 'PINKSKY', 'GMF',\n",
       "       'Portico New York', 'SEJ by Nisha Gupta', 'Routeen', 'Juniper',\n",
       "       'URBAN DREAM', 'Silk India', 'Indibelle',\n",
       "       'United Colors of Benetton', 'MARK HOME', 'Sringam',\n",
       "       'Independence Club', 'TJORI', 'Alom', 'Blue Saint',\n",
       "       'MABISH by Sonal Jain', 'SWHF', 'ADIVA', 'Yufta', 'Cottinfab',\n",
       "       'Chhabra 555', \"Kurti's by Menka\", 'Tulsattva', 'Aksara',\n",
       "       'IndusDiva Loomnic', 'Kidling', 'TOZZI', 'WoowZerz', 'MAFATLAL',\n",
       "       'Prayyan', 'Raas', 'TATTVA', 'Vivids India', 'Blissta',\n",
       "       'Jeetethnics', 'WEAVERS VILLA', 'Colour Me by Melange',\n",
       "       'Shaftesbury London', 'Kuons Avenue', 'Dreamscape', 'SPACES',\n",
       "       'Faserz', 'STREET 9', 'Campana', 'RIYA', 'Dennis Morton',\n",
       "       'LUXURAZI', 'THE SILHOUETTE STORE', 'WONDERMOM', 'RAISIN',\n",
       "       'Raymond Ethnix', 'Athena', 'SYONN', 'AKS Couture', 'Rajyog',\n",
       "       'Gini and Jony', 'Pluchi', 'Azira', 'Satrani', 'Citypret',\n",
       "       'RIKIDOOS', 'RANGMANCH BY PANTALOONS', 'Taavi', 'Indo Era',\n",
       "       'PAROKSH', 'CORE Designed by SPACES', 'Mangalyam British Club',\n",
       "       'rangeelo rajasthan', 'Bene Kleed', 'NEUDIS', 'VULCAN', 'anayna',\n",
       "       'Ayaany', 'SOUNDARYA', 'Globus', 'MR BUTTON', 'Home Sizzler',\n",
       "       'Laabha', 'aasi', 'BLUSH', 'Huesland', 'ROMEE', 'Faballey Indya',\n",
       "       'AASI - HOUSE OF NAYO', 'La Zoire', 'Aura', 'shiloh',\n",
       "       'Yellow Kite', 'Noi', 'Peter England Casuals', 'Myshka', 'PITARA',\n",
       "       'V SALES', 'CHOKORE', 'mf', 'Indian Poshakh', 'Louis Park', 'Kira',\n",
       "       'Saree mall', 'BIANCA', 'JADE BLUE', 'Home Ecstasy',\n",
       "       'Boutique Living India', 'Shree Shubh', 'PANIT', 'LOCOMOTIVE',\n",
       "       'Celio', 'A Little Fable', 'Castle', 'Chennis', 'Toshee',\n",
       "       'U.S. Polo Assn. Kids', 'Indian Attire', 'Stylee LIFESTYLE',\n",
       "       'Salona Bichona', 'UNTUNG', 'Fuzion Couture', 'La Bele',\n",
       "       'Jack & Jones', 'Nation Polo Club', 'PIZUNA LINENS', 'SCOUP',\n",
       "       'A Homes Grace', 'Breakbounce', 'SG LEMAN', 'Cortina', 'Amora',\n",
       "       'Saadgi', 'Aujjessa', 'Rodamo', 'SOHO By MAFATLAL', 'breya',\n",
       "       'AgrohA', 'House This', 'Crafts collection', 'Styles Closet',\n",
       "       'Larwa', 'Mirage', 'TALES & STORIES', 'Lombard', 'STELLAR HOME',\n",
       "       'Drama Sisters', 'Yuris', 'Fairies Forever', 'My Little Lambs',\n",
       "       'Ahmedabad Cotton', 'Label Ritu Kumar', 'WESTCLO', '20Dresses',\n",
       "       'Imfashini', 'Stylo Bug', 'pinkshink', 'Voi Jeans', 'Spread',\n",
       "       'Aarrah', 'Shahjada', 'HK colours of fashion', 'Rain & Rainbow',\n",
       "       'Janasya', 'Vozaf', 'WELHOME', 'Pannkh', 'ANAN', 'Desi Weavess',\n",
       "       'Sera', 'Honey by Pantaloons', 'De Moza', 'John Pride', 'MBE',\n",
       "       'RENE', 'MOR INTERNATIONAL', 'TRISHAA BY PANTALOONS',\n",
       "       'Rock-a-Bye Baby', 'Cottonworld', 'Bhama Couture', 'Bronz',\n",
       "       'Alena', 'KAY', 'aLL', 'Antheaa', 'THE BABY ATELIER', 'MANVAA',\n",
       "       'Splash', 'Mitera', 'AND', 'VividArtsy', 'Ahalyaa',\n",
       "       'Indigo Nation', 'Sethukrishna', '9rasa', 'SHINGORA', 'Priyaasi',\n",
       "       'trueBrowns', 'Kvsfab', 'RIVI', 'RANGRAGE', 'Florence',\n",
       "       'The Chennai Silks', 'HIGHLANDER', 'Pisara', 'Soumya',\n",
       "       'Athom Trendz', 'Balance by Rohit Bal', 'rasm', 'Folklore',\n",
       "       'Travel Blue', 'IMYOUNG', 'StyleStone', 'Tokyo Talkies',\n",
       "       'Toss Winner', 'Khushal K', 'Just Wow', 'American Eye', 'AASK'],\n",
       "      dtype=object)"
      ]
     },
     "execution_count": 22,
     "metadata": {},
     "output_type": "execute_result"
    }
   ],
   "source": [
    "data['brand'].unique()"
   ]
  },
  {
   "cell_type": "code",
   "execution_count": 14,
   "id": "dbbc97d5",
   "metadata": {},
   "outputs": [
    {
     "data": {
      "text/html": [
       "<div>\n",
       "<style scoped>\n",
       "    .dataframe tbody tr th:only-of-type {\n",
       "        vertical-align: middle;\n",
       "    }\n",
       "\n",
       "    .dataframe tbody tr th {\n",
       "        vertical-align: top;\n",
       "    }\n",
       "\n",
       "    .dataframe thead th {\n",
       "        text-align: right;\n",
       "    }\n",
       "</style>\n",
       "<table border=\"1\" class=\"dataframe\">\n",
       "  <thead>\n",
       "    <tr style=\"text-align: right;\">\n",
       "      <th></th>\n",
       "      <th>uniq_id</th>\n",
       "      <th>crawl_timestamp</th>\n",
       "      <th>product_id</th>\n",
       "      <th>link</th>\n",
       "      <th>size</th>\n",
       "      <th>variant_sku</th>\n",
       "      <th>brand</th>\n",
       "      <th>care_instructions</th>\n",
       "      <th>dominant_material</th>\n",
       "      <th>title</th>\n",
       "      <th>...</th>\n",
       "      <th>product_details</th>\n",
       "      <th>size_fit</th>\n",
       "      <th>complete_the_look</th>\n",
       "      <th>type</th>\n",
       "      <th>variant_price</th>\n",
       "      <th>variant_compare_at_price</th>\n",
       "      <th>ideal_for</th>\n",
       "      <th>is_in_stock</th>\n",
       "      <th>inventory</th>\n",
       "      <th>specifications</th>\n",
       "    </tr>\n",
       "  </thead>\n",
       "  <tbody>\n",
       "    <tr>\n",
       "      <th>4</th>\n",
       "      <td>890bf4355c319a4211296b9d3176d11f</td>\n",
       "      <td>2019-06-01 08:17:28 +0000</td>\n",
       "      <td>7705322</td>\n",
       "      <td>https://www.myntra.com/kurta-sets/manyavar/man...</td>\n",
       "      <td>S</td>\n",
       "      <td>7705322_S</td>\n",
       "      <td>Manyavar</td>\n",
       "      <td>Top fabric: Silk Blend | Bottom fabric: Silk B...</td>\n",
       "      <td>Silk</td>\n",
       "      <td>Manyavar Men Yellow &amp; White Self Design Kurta ...</td>\n",
       "      <td>...</td>\n",
       "      <td>Yellow and white self design kurta with churid...</td>\n",
       "      <td>The model (height 6') is wearing a size M</td>\n",
       "      <td>From Manyavar, this kurta is a great way to sh...</td>\n",
       "      <td>Clothing/Men/Kurta Sets/Manyavar/More by Manyavar</td>\n",
       "      <td>2999</td>\n",
       "      <td>2999</td>\n",
       "      <td>Men</td>\n",
       "      <td>Out of Stock</td>\n",
       "      <td>Occasion : Festive | Number of Components : 2 ...</td>\n",
       "      <td>NaN</td>\n",
       "    </tr>\n",
       "    <tr>\n",
       "      <th>26</th>\n",
       "      <td>d7e3995ec538dbf48161f5f572d7a85e</td>\n",
       "      <td>2019-06-10 07:06:27 +0000</td>\n",
       "      <td>7432155</td>\n",
       "      <td>https://www.myntra.com/kurta-sets/manyavar/man...</td>\n",
       "      <td>S</td>\n",
       "      <td>7432155_S</td>\n",
       "      <td>Manyavar</td>\n",
       "      <td>Top fabric: Silk Blend | Bottom fabric: Silk B...</td>\n",
       "      <td>Silk</td>\n",
       "      <td>Manyavar Men Sea Green Self Design Kurta with ...</td>\n",
       "      <td>...</td>\n",
       "      <td>Sea Green self design kurta with churidar  Sea...</td>\n",
       "      <td>The model (height 6') is wearing a size M</td>\n",
       "      <td>Sport this classic kurta from Manyavar this se...</td>\n",
       "      <td>Clothing/Men/Kurta Sets/Manyavar/More by Manyavar</td>\n",
       "      <td>4999</td>\n",
       "      <td>4999</td>\n",
       "      <td>Men</td>\n",
       "      <td>In Stock</td>\n",
       "      <td>Occasion : Festive | Number of Components : 2 ...</td>\n",
       "      <td>NaN</td>\n",
       "    </tr>\n",
       "    <tr>\n",
       "      <th>304</th>\n",
       "      <td>52a4406b599a82596b68cc5ad29bcf54</td>\n",
       "      <td>2019-08-06 10:18:28 +0000</td>\n",
       "      <td>2148863</td>\n",
       "      <td>https://www.myntra.com/kurtas/manyavar/manyava...</td>\n",
       "      <td>M</td>\n",
       "      <td>2148863_M</td>\n",
       "      <td>Manyavar</td>\n",
       "      <td>Cotton |  Dry-clean</td>\n",
       "      <td>Cotton</td>\n",
       "      <td>Manyavar Men Maroon Solid Straight Kurta</td>\n",
       "      <td>...</td>\n",
       "      <td>Maroon solid straight kurta, has a round neck,...</td>\n",
       "      <td>The model (height 6') is wearing a size M</td>\n",
       "      <td>This in-style kurta from Manyavar is a must-ha...</td>\n",
       "      <td>Clothing/Men/Kurtas/Manyavar/More by Manyavar</td>\n",
       "      <td>999</td>\n",
       "      <td>999</td>\n",
       "      <td>Men</td>\n",
       "      <td>In Stock</td>\n",
       "      <td>2</td>\n",
       "      <td>Shape : Straight | Sleeve Styling : Regular Sl...</td>\n",
       "    </tr>\n",
       "    <tr>\n",
       "      <th>890</th>\n",
       "      <td>0cf37d224007411210c6fd4b62231a3b</td>\n",
       "      <td>2019-06-10 07:11:03 +0000</td>\n",
       "      <td>6968224</td>\n",
       "      <td>https://www.myntra.com/kurtas/manyavar/manyava...</td>\n",
       "      <td>L</td>\n",
       "      <td>6968224_L</td>\n",
       "      <td>Manyavar</td>\n",
       "      <td>Cotton Silk | Dry-clean</td>\n",
       "      <td>Cotton</td>\n",
       "      <td>Manyavar Men Maroon Striped Straight Kurta</td>\n",
       "      <td>...</td>\n",
       "      <td>Maroon striped straight kurta, has a mandarin ...</td>\n",
       "      <td>The model (height 6') is wearing a size M</td>\n",
       "      <td>From Manyavar, this kurta is a great way to sh...</td>\n",
       "      <td>Clothing/Men/Kurtas/Manyavar/More by Manyavar</td>\n",
       "      <td>799</td>\n",
       "      <td>799</td>\n",
       "      <td>Men</td>\n",
       "      <td>Out of Stock</td>\n",
       "      <td>Shape : Straight | Sleeve Styling : Regular Sl...</td>\n",
       "      <td>NaN</td>\n",
       "    </tr>\n",
       "    <tr>\n",
       "      <th>1091</th>\n",
       "      <td>b32590102b8e46ab74e38fb45bbb9603</td>\n",
       "      <td>2019-06-10 07:24:27 +0000</td>\n",
       "      <td>1867754</td>\n",
       "      <td>https://www.myntra.com/kurta-sets/manyavar/man...</td>\n",
       "      <td>S</td>\n",
       "      <td>1867754_S</td>\n",
       "      <td>Manyavar</td>\n",
       "      <td>50% silk, 50% cottonDry-clean</td>\n",
       "      <td>cotton</td>\n",
       "      <td>Manyavar Mustard Yellow &amp; Beige Kurta Dhoti</td>\n",
       "      <td>...</td>\n",
       "      <td>Mustard yellow kurta dhotiMustard yellow kurta...</td>\n",
       "      <td>The model (height 6') is wearing a size S</td>\n",
       "      <td>This kurta dhoti is an epitome of style and co...</td>\n",
       "      <td>Clothing/Men/Kurta Sets/Manyavar/More by Manyavar</td>\n",
       "      <td>4999</td>\n",
       "      <td>4999</td>\n",
       "      <td>Men</td>\n",
       "      <td>Out of Stock</td>\n",
       "      <td>Sleeve Styling : Regular Sleeves | Occasion : ...</td>\n",
       "      <td>NaN</td>\n",
       "    </tr>\n",
       "    <tr>\n",
       "      <th>...</th>\n",
       "      <td>...</td>\n",
       "      <td>...</td>\n",
       "      <td>...</td>\n",
       "      <td>...</td>\n",
       "      <td>...</td>\n",
       "      <td>...</td>\n",
       "      <td>...</td>\n",
       "      <td>...</td>\n",
       "      <td>...</td>\n",
       "      <td>...</td>\n",
       "      <td>...</td>\n",
       "      <td>...</td>\n",
       "      <td>...</td>\n",
       "      <td>...</td>\n",
       "      <td>...</td>\n",
       "      <td>...</td>\n",
       "      <td>...</td>\n",
       "      <td>...</td>\n",
       "      <td>...</td>\n",
       "      <td>...</td>\n",
       "      <td>...</td>\n",
       "    </tr>\n",
       "    <tr>\n",
       "      <th>13551</th>\n",
       "      <td>bef2e2631c0cee94b1fa5f0ae369301b</td>\n",
       "      <td>2019-08-17 06:58:08 +0000</td>\n",
       "      <td>7340600</td>\n",
       "      <td>https://www.myntra.com/7340600</td>\n",
       "      <td>S</td>\n",
       "      <td>7340600_S</td>\n",
       "      <td>Manyavar</td>\n",
       "      <td>Cotton Silk | Dry Clean Only</td>\n",
       "      <td>Cotton</td>\n",
       "      <td>Manyavar Men Yellow Woven Design Straight Kurta</td>\n",
       "      <td>...</td>\n",
       "      <td>Yellow woven design straight kurta, has a mand...</td>\n",
       "      <td>The model (height 6') is wearing a size M</td>\n",
       "      <td>Flaunt your style with a kurta from Manyavar. ...</td>\n",
       "      <td>Clothing/Men/Kurtas/Manyavar/More by Manyavar</td>\n",
       "      <td>1599</td>\n",
       "      <td>1599</td>\n",
       "      <td>Men</td>\n",
       "      <td>In Stock</td>\n",
       "      <td>1</td>\n",
       "      <td>Shape : Straight | Sleeve Styling : Regular Sl...</td>\n",
       "    </tr>\n",
       "    <tr>\n",
       "      <th>13609</th>\n",
       "      <td>12d6d90a7459d9a2e4146ee5a1061f84</td>\n",
       "      <td>2019-08-14 06:27:43 +0000</td>\n",
       "      <td>655140</td>\n",
       "      <td>https://www.myntra.com/655140</td>\n",
       "      <td>L</td>\n",
       "      <td>655140_L</td>\n",
       "      <td>Manyavar</td>\n",
       "      <td>Dry Wash, Blended</td>\n",
       "      <td>NaN</td>\n",
       "      <td>Manyavar Men Cream-Coloured Embroidered Kurta ...</td>\n",
       "      <td>...</td>\n",
       "      <td>Cream-coloured kurta pyjama Cream-coloured wov...</td>\n",
       "      <td>The model (height 6') is wearing a size M</td>\n",
       "      <td>Look attractive at all occasions in this kurta...</td>\n",
       "      <td>Clothing/Men/Kurta Sets/Manyavar/More by Manyavar</td>\n",
       "      <td>1999</td>\n",
       "      <td>1999</td>\n",
       "      <td>Men</td>\n",
       "      <td>In Stock</td>\n",
       "      <td>8</td>\n",
       "      <td>Sleeve Styling : Regular Sleeves | Occasion : ...</td>\n",
       "    </tr>\n",
       "    <tr>\n",
       "      <th>13820</th>\n",
       "      <td>0443655ea928d16910151de21881f5ed</td>\n",
       "      <td>2019-08-17 06:58:08 +0000</td>\n",
       "      <td>7340600</td>\n",
       "      <td>https://www.myntra.com/7340600</td>\n",
       "      <td>M</td>\n",
       "      <td>7340600_M</td>\n",
       "      <td>Manyavar</td>\n",
       "      <td>Cotton Silk | Dry Clean Only</td>\n",
       "      <td>Cotton</td>\n",
       "      <td>Manyavar Men Yellow Woven Design Straight Kurta</td>\n",
       "      <td>...</td>\n",
       "      <td>Yellow woven design straight kurta, has a mand...</td>\n",
       "      <td>The model (height 6') is wearing a size M</td>\n",
       "      <td>Flaunt your style with a kurta from Manyavar. ...</td>\n",
       "      <td>Clothing/Men/Kurtas/Manyavar/More by Manyavar</td>\n",
       "      <td>1599</td>\n",
       "      <td>1599</td>\n",
       "      <td>Men</td>\n",
       "      <td>In Stock</td>\n",
       "      <td>3</td>\n",
       "      <td>Shape : Straight | Sleeve Styling : Regular Sl...</td>\n",
       "    </tr>\n",
       "    <tr>\n",
       "      <th>13859</th>\n",
       "      <td>aba59bd4f5578d16dee4d4ab00f7969f</td>\n",
       "      <td>2019-08-14 08:48:40 +0000</td>\n",
       "      <td>7340572</td>\n",
       "      <td>https://www.myntra.com/7340572</td>\n",
       "      <td>XXL</td>\n",
       "      <td>7340572_XXL</td>\n",
       "      <td>Manyavar</td>\n",
       "      <td>Cotton Silk | Dry Clean Only</td>\n",
       "      <td>Cotton</td>\n",
       "      <td>Manyavar Men Blue Striped Straight Kurta</td>\n",
       "      <td>...</td>\n",
       "      <td>Blue striped straight kurta, has a mandarin co...</td>\n",
       "      <td>The model (height 6') is wearing a size M</td>\n",
       "      <td>Flaunt your style with a kurta from Manyavar. ...</td>\n",
       "      <td>Clothing/Men/Kurtas/Manyavar/More by Manyavar</td>\n",
       "      <td>1499</td>\n",
       "      <td>1499</td>\n",
       "      <td>Men</td>\n",
       "      <td>Out of Stock</td>\n",
       "      <td>0</td>\n",
       "      <td>Shape : Straight | Sleeve Styling : Regular Sl...</td>\n",
       "    </tr>\n",
       "    <tr>\n",
       "      <th>14201</th>\n",
       "      <td>ddc58d20a7e4f70891f0dbc3552fc0fe</td>\n",
       "      <td>2019-08-19 02:46:05 +0000</td>\n",
       "      <td>2072410</td>\n",
       "      <td>https://www.myntra.com/2072410</td>\n",
       "      <td>XXL</td>\n",
       "      <td>2072410_XXL</td>\n",
       "      <td>Manyavar</td>\n",
       "      <td>Kurta fabric: silk blend | Bottom fabric: silk...</td>\n",
       "      <td>Silk</td>\n",
       "      <td>Manyavar Men Blue &amp; White Self-Design Kurta wi...</td>\n",
       "      <td>...</td>\n",
       "      <td>Blue and white self-design kurta with churidar...</td>\n",
       "      <td>The model (height 6') is wearing a size M</td>\n",
       "      <td>Flaunt your style with a kurta from Manyavar. ...</td>\n",
       "      <td>Clothing/Men/Kurta Sets/Manyavar/More by Manyavar</td>\n",
       "      <td>2999</td>\n",
       "      <td>2999</td>\n",
       "      <td>Men</td>\n",
       "      <td>Out of Stock</td>\n",
       "      <td>0</td>\n",
       "      <td>Sleeve Styling : Regular Sleeves | Occasion : ...</td>\n",
       "    </tr>\n",
       "  </tbody>\n",
       "</table>\n",
       "<p>86 rows × 25 columns</p>\n",
       "</div>"
      ],
      "text/plain": [
       "                                uniq_id            crawl_timestamp  \\\n",
       "4      890bf4355c319a4211296b9d3176d11f  2019-06-01 08:17:28 +0000   \n",
       "26     d7e3995ec538dbf48161f5f572d7a85e  2019-06-10 07:06:27 +0000   \n",
       "304    52a4406b599a82596b68cc5ad29bcf54  2019-08-06 10:18:28 +0000   \n",
       "890    0cf37d224007411210c6fd4b62231a3b  2019-06-10 07:11:03 +0000   \n",
       "1091   b32590102b8e46ab74e38fb45bbb9603  2019-06-10 07:24:27 +0000   \n",
       "...                                 ...                        ...   \n",
       "13551  bef2e2631c0cee94b1fa5f0ae369301b  2019-08-17 06:58:08 +0000   \n",
       "13609  12d6d90a7459d9a2e4146ee5a1061f84  2019-08-14 06:27:43 +0000   \n",
       "13820  0443655ea928d16910151de21881f5ed  2019-08-17 06:58:08 +0000   \n",
       "13859  aba59bd4f5578d16dee4d4ab00f7969f  2019-08-14 08:48:40 +0000   \n",
       "14201  ddc58d20a7e4f70891f0dbc3552fc0fe  2019-08-19 02:46:05 +0000   \n",
       "\n",
       "       product_id                                               link size  \\\n",
       "4         7705322  https://www.myntra.com/kurta-sets/manyavar/man...    S   \n",
       "26        7432155  https://www.myntra.com/kurta-sets/manyavar/man...    S   \n",
       "304       2148863  https://www.myntra.com/kurtas/manyavar/manyava...    M   \n",
       "890       6968224  https://www.myntra.com/kurtas/manyavar/manyava...    L   \n",
       "1091      1867754  https://www.myntra.com/kurta-sets/manyavar/man...    S   \n",
       "...           ...                                                ...  ...   \n",
       "13551     7340600                     https://www.myntra.com/7340600    S   \n",
       "13609      655140                      https://www.myntra.com/655140    L   \n",
       "13820     7340600                     https://www.myntra.com/7340600    M   \n",
       "13859     7340572                     https://www.myntra.com/7340572  XXL   \n",
       "14201     2072410                     https://www.myntra.com/2072410  XXL   \n",
       "\n",
       "       variant_sku     brand  \\\n",
       "4        7705322_S  Manyavar   \n",
       "26       7432155_S  Manyavar   \n",
       "304      2148863_M  Manyavar   \n",
       "890      6968224_L  Manyavar   \n",
       "1091     1867754_S  Manyavar   \n",
       "...            ...       ...   \n",
       "13551    7340600_S  Manyavar   \n",
       "13609     655140_L  Manyavar   \n",
       "13820    7340600_M  Manyavar   \n",
       "13859  7340572_XXL  Manyavar   \n",
       "14201  2072410_XXL  Manyavar   \n",
       "\n",
       "                                       care_instructions dominant_material  \\\n",
       "4      Top fabric: Silk Blend | Bottom fabric: Silk B...              Silk   \n",
       "26     Top fabric: Silk Blend | Bottom fabric: Silk B...              Silk   \n",
       "304                                  Cotton |  Dry-clean            Cotton   \n",
       "890                              Cotton Silk | Dry-clean            Cotton   \n",
       "1091                       50% silk, 50% cottonDry-clean            cotton   \n",
       "...                                                  ...               ...   \n",
       "13551                       Cotton Silk | Dry Clean Only            Cotton   \n",
       "13609                                  Dry Wash, Blended               NaN   \n",
       "13820                       Cotton Silk | Dry Clean Only            Cotton   \n",
       "13859                       Cotton Silk | Dry Clean Only            Cotton   \n",
       "14201  Kurta fabric: silk blend | Bottom fabric: silk...              Silk   \n",
       "\n",
       "                                                   title  ...  \\\n",
       "4      Manyavar Men Yellow & White Self Design Kurta ...  ...   \n",
       "26     Manyavar Men Sea Green Self Design Kurta with ...  ...   \n",
       "304             Manyavar Men Maroon Solid Straight Kurta  ...   \n",
       "890           Manyavar Men Maroon Striped Straight Kurta  ...   \n",
       "1091         Manyavar Mustard Yellow & Beige Kurta Dhoti  ...   \n",
       "...                                                  ...  ...   \n",
       "13551    Manyavar Men Yellow Woven Design Straight Kurta  ...   \n",
       "13609  Manyavar Men Cream-Coloured Embroidered Kurta ...  ...   \n",
       "13820    Manyavar Men Yellow Woven Design Straight Kurta  ...   \n",
       "13859           Manyavar Men Blue Striped Straight Kurta  ...   \n",
       "14201  Manyavar Men Blue & White Self-Design Kurta wi...  ...   \n",
       "\n",
       "                                         product_details  \\\n",
       "4      Yellow and white self design kurta with churid...   \n",
       "26     Sea Green self design kurta with churidar  Sea...   \n",
       "304    Maroon solid straight kurta, has a round neck,...   \n",
       "890    Maroon striped straight kurta, has a mandarin ...   \n",
       "1091   Mustard yellow kurta dhotiMustard yellow kurta...   \n",
       "...                                                  ...   \n",
       "13551  Yellow woven design straight kurta, has a mand...   \n",
       "13609  Cream-coloured kurta pyjama Cream-coloured wov...   \n",
       "13820  Yellow woven design straight kurta, has a mand...   \n",
       "13859  Blue striped straight kurta, has a mandarin co...   \n",
       "14201  Blue and white self-design kurta with churidar...   \n",
       "\n",
       "                                        size_fit  \\\n",
       "4      The model (height 6') is wearing a size M   \n",
       "26     The model (height 6') is wearing a size M   \n",
       "304    The model (height 6') is wearing a size M   \n",
       "890    The model (height 6') is wearing a size M   \n",
       "1091   The model (height 6') is wearing a size S   \n",
       "...                                          ...   \n",
       "13551  The model (height 6') is wearing a size M   \n",
       "13609  The model (height 6') is wearing a size M   \n",
       "13820  The model (height 6') is wearing a size M   \n",
       "13859  The model (height 6') is wearing a size M   \n",
       "14201  The model (height 6') is wearing a size M   \n",
       "\n",
       "                                       complete_the_look  \\\n",
       "4      From Manyavar, this kurta is a great way to sh...   \n",
       "26     Sport this classic kurta from Manyavar this se...   \n",
       "304    This in-style kurta from Manyavar is a must-ha...   \n",
       "890    From Manyavar, this kurta is a great way to sh...   \n",
       "1091   This kurta dhoti is an epitome of style and co...   \n",
       "...                                                  ...   \n",
       "13551  Flaunt your style with a kurta from Manyavar. ...   \n",
       "13609  Look attractive at all occasions in this kurta...   \n",
       "13820  Flaunt your style with a kurta from Manyavar. ...   \n",
       "13859  Flaunt your style with a kurta from Manyavar. ...   \n",
       "14201  Flaunt your style with a kurta from Manyavar. ...   \n",
       "\n",
       "                                                    type variant_price  \\\n",
       "4      Clothing/Men/Kurta Sets/Manyavar/More by Manyavar          2999   \n",
       "26     Clothing/Men/Kurta Sets/Manyavar/More by Manyavar          4999   \n",
       "304        Clothing/Men/Kurtas/Manyavar/More by Manyavar           999   \n",
       "890        Clothing/Men/Kurtas/Manyavar/More by Manyavar           799   \n",
       "1091   Clothing/Men/Kurta Sets/Manyavar/More by Manyavar          4999   \n",
       "...                                                  ...           ...   \n",
       "13551      Clothing/Men/Kurtas/Manyavar/More by Manyavar          1599   \n",
       "13609  Clothing/Men/Kurta Sets/Manyavar/More by Manyavar          1999   \n",
       "13820      Clothing/Men/Kurtas/Manyavar/More by Manyavar          1599   \n",
       "13859      Clothing/Men/Kurtas/Manyavar/More by Manyavar          1499   \n",
       "14201  Clothing/Men/Kurta Sets/Manyavar/More by Manyavar          2999   \n",
       "\n",
       "      variant_compare_at_price ideal_for   is_in_stock  \\\n",
       "4                         2999       Men  Out of Stock   \n",
       "26                        4999       Men      In Stock   \n",
       "304                        999       Men      In Stock   \n",
       "890                        799       Men  Out of Stock   \n",
       "1091                      4999       Men  Out of Stock   \n",
       "...                        ...       ...           ...   \n",
       "13551                     1599       Men      In Stock   \n",
       "13609                     1999       Men      In Stock   \n",
       "13820                     1599       Men      In Stock   \n",
       "13859                     1499       Men  Out of Stock   \n",
       "14201                     2999       Men  Out of Stock   \n",
       "\n",
       "                                               inventory  \\\n",
       "4      Occasion : Festive | Number of Components : 2 ...   \n",
       "26     Occasion : Festive | Number of Components : 2 ...   \n",
       "304                                                    2   \n",
       "890    Shape : Straight | Sleeve Styling : Regular Sl...   \n",
       "1091   Sleeve Styling : Regular Sleeves | Occasion : ...   \n",
       "...                                                  ...   \n",
       "13551                                                  1   \n",
       "13609                                                  8   \n",
       "13820                                                  3   \n",
       "13859                                                  0   \n",
       "14201                                                  0   \n",
       "\n",
       "                                          specifications  \n",
       "4                                                    NaN  \n",
       "26                                                   NaN  \n",
       "304    Shape : Straight | Sleeve Styling : Regular Sl...  \n",
       "890                                                  NaN  \n",
       "1091                                                 NaN  \n",
       "...                                                  ...  \n",
       "13551  Shape : Straight | Sleeve Styling : Regular Sl...  \n",
       "13609  Sleeve Styling : Regular Sleeves | Occasion : ...  \n",
       "13820  Shape : Straight | Sleeve Styling : Regular Sl...  \n",
       "13859  Shape : Straight | Sleeve Styling : Regular Sl...  \n",
       "14201  Sleeve Styling : Regular Sleeves | Occasion : ...  \n",
       "\n",
       "[86 rows x 25 columns]"
      ]
     },
     "execution_count": 14,
     "metadata": {},
     "output_type": "execute_result"
    }
   ],
   "source": [
    "data[(data['brand']=='Manyavar') & (data['ideal_for']=='Men') & (data['type'].str.contains('Kurta'))]"
   ]
  },
  {
   "cell_type": "code",
   "execution_count": 4,
   "id": "cca65460",
   "metadata": {},
   "outputs": [
    {
     "data": {
      "text/plain": [
       "0                   IMARA\n",
       "1        House of Pataudi\n",
       "2        The White Willow\n",
       "3          Dupatta Bazaar\n",
       "4                Manyavar\n",
       "               ...       \n",
       "14226               Shree\n",
       "14227            Freehand\n",
       "14228            LilPicks\n",
       "14229               Anouk\n",
       "14230               Anouk\n",
       "Name: brand, Length: 14231, dtype: object"
      ]
     },
     "execution_count": 4,
     "metadata": {},
     "output_type": "execute_result"
    }
   ],
   "source": [
    "data.brand"
   ]
  },
  {
   "cell_type": "code",
   "execution_count": 5,
   "id": "473f8a3e",
   "metadata": {},
   "outputs": [
    {
     "data": {
      "text/plain": [
       "Index(['uniq_id', 'crawl_timestamp', 'product_id', 'link', 'size',\n",
       "       'variant_sku', 'brand', 'care_instructions', 'dominant_material',\n",
       "       'title', 'actual_color', 'dominant_color', 'product_type', 'images',\n",
       "       'body', 'product_details', 'size_fit', 'complete_the_look', 'type',\n",
       "       'variant_price', 'variant_compare_at_price', 'ideal_for', 'is_in_stock',\n",
       "       'inventory', 'specifications'],\n",
       "      dtype='object')"
      ]
     },
     "execution_count": 5,
     "metadata": {},
     "output_type": "execute_result"
    }
   ],
   "source": [
    "data.columns"
   ]
  },
  {
   "cell_type": "code",
   "execution_count": 6,
   "id": "bd60cb8e",
   "metadata": {},
   "outputs": [
    {
     "data": {
      "text/plain": [
       "(14231, 25)"
      ]
     },
     "execution_count": 6,
     "metadata": {},
     "output_type": "execute_result"
    }
   ],
   "source": [
    "data.shape"
   ]
  },
  {
   "cell_type": "code",
   "execution_count": 7,
   "id": "a48302dd",
   "metadata": {},
   "outputs": [
    {
     "data": {
      "text/plain": [
       "'Black solid woven regular top,has a V-neck, three-quarter sleeves, an attached lining'"
      ]
     },
     "execution_count": 7,
     "metadata": {},
     "output_type": "execute_result"
    }
   ],
   "source": [
    "data.iloc[0].product_details"
   ]
  },
  {
   "cell_type": "code",
   "execution_count": 8,
   "id": "90d64675",
   "metadata": {},
   "outputs": [
    {
     "data": {
      "text/plain": [
       "'House of Pataudi Men Black Printed Straight Kurta'"
      ]
     },
     "execution_count": 8,
     "metadata": {},
     "output_type": "execute_result"
    }
   ],
   "source": [
    "data.iloc[1].title"
   ]
  },
  {
   "cell_type": "code",
   "execution_count": 47,
   "id": "81e7bd01",
   "metadata": {},
   "outputs": [
    {
     "data": {
      "text/plain": [
       "'Clothing/Women/Palazzos/Clora Creation/More by Clora Creation'"
      ]
     },
     "execution_count": 47,
     "metadata": {},
     "output_type": "execute_result"
    }
   ],
   "source": [
    "data.iloc[10].type"
   ]
  },
  {
   "cell_type": "code",
   "execution_count": 48,
   "id": "b6fbab9d",
   "metadata": {},
   "outputs": [
    {
     "data": {
      "text/plain": [
       "array(['Clothing/Women/Tops/IMARA/More by IMARA',\n",
       "       'Clothing/Men/Kurtas/House of Pataudi/More by House of Pataudi',\n",
       "       'Home/Unisex/Pillows/The White Willow/More by The White Willow',\n",
       "       ..., 'Clothing/Boys/Kurta Sets/LilPicks/More by LilPicks',\n",
       "       'Clothing/Women/Sweaters/Anouk/More by Anouk',\n",
       "       'Clothing/Women/Kurtas/Anouk/More by Anouk'], dtype=object)"
      ]
     },
     "execution_count": 48,
     "metadata": {},
     "output_type": "execute_result"
    }
   ],
   "source": [
    "data.type.values"
   ]
  },
  {
   "cell_type": "code",
   "execution_count": 10,
   "id": "916ea477",
   "metadata": {},
   "outputs": [
    {
     "data": {
      "text/plain": [
       "'Transparency : Opaque | Sleeve Styling : Bell Sleeves | Occasion : Ethnic | Main Trend : Ethnic Print | Print or Pattern Type : Solid | Number of Components : 1 | Neck : V-Neck | Pattern : Solid | Body or Garment Size : Garment Measurements in | Sleeve Length : Three-Quarter Sleeves | Wash Care : Dry Clean | Weave Type : Woven | Type : Regular | Surface Styling : Embroidered | Length : Regular | Lining : Has a lining | Fabric : Polyester'"
      ]
     },
     "execution_count": 10,
     "metadata": {},
     "output_type": "execute_result"
    }
   ],
   "source": [
    "data.iloc[0].specifications"
   ]
  },
  {
   "cell_type": "code",
   "execution_count": 11,
   "id": "b43153bf",
   "metadata": {},
   "outputs": [
    {
     "data": {
      "text/plain": [
       "uniq_id                     object\n",
       "crawl_timestamp             object\n",
       "product_id                   int64\n",
       "link                        object\n",
       "size                        object\n",
       "variant_sku                 object\n",
       "brand                       object\n",
       "care_instructions           object\n",
       "dominant_material           object\n",
       "title                       object\n",
       "actual_color                object\n",
       "dominant_color              object\n",
       "product_type                object\n",
       "images                      object\n",
       "body                        object\n",
       "product_details             object\n",
       "size_fit                    object\n",
       "complete_the_look           object\n",
       "type                        object\n",
       "variant_price                int64\n",
       "variant_compare_at_price     int64\n",
       "ideal_for                   object\n",
       "is_in_stock                 object\n",
       "inventory                   object\n",
       "specifications              object\n",
       "dtype: object"
      ]
     },
     "execution_count": 11,
     "metadata": {},
     "output_type": "execute_result"
    }
   ],
   "source": [
    "data.dtypes"
   ]
  },
  {
   "cell_type": "markdown",
   "id": "9640ee31",
   "metadata": {},
   "source": [
    "# extract the main columns from the dataset "
   ]
  },
  {
   "cell_type": "code",
   "execution_count": 12,
   "id": "6646e3b3",
   "metadata": {},
   "outputs": [
    {
     "data": {
      "text/html": [
       "<div>\n",
       "<style scoped>\n",
       "    .dataframe tbody tr th:only-of-type {\n",
       "        vertical-align: middle;\n",
       "    }\n",
       "\n",
       "    .dataframe tbody tr th {\n",
       "        vertical-align: top;\n",
       "    }\n",
       "\n",
       "    .dataframe thead th {\n",
       "        text-align: right;\n",
       "    }\n",
       "</style>\n",
       "<table border=\"1\" class=\"dataframe\">\n",
       "  <thead>\n",
       "    <tr style=\"text-align: right;\">\n",
       "      <th></th>\n",
       "      <th>brand</th>\n",
       "      <th>title</th>\n",
       "      <th>product_details</th>\n",
       "      <th>type</th>\n",
       "      <th>ideal_for</th>\n",
       "    </tr>\n",
       "  </thead>\n",
       "  <tbody>\n",
       "    <tr>\n",
       "      <th>0</th>\n",
       "      <td>IMARA</td>\n",
       "      <td>IMARA Women Black Solid Top</td>\n",
       "      <td>Black solid woven regular top,has a V-neck, th...</td>\n",
       "      <td>Clothing/Women/Tops/IMARA/More by IMARA</td>\n",
       "      <td>Women</td>\n",
       "    </tr>\n",
       "    <tr>\n",
       "      <th>1</th>\n",
       "      <td>House of Pataudi</td>\n",
       "      <td>House of Pataudi Men Black Printed Straight Kurta</td>\n",
       "      <td>Black printed straight kurta, has a mandarin c...</td>\n",
       "      <td>Clothing/Men/Kurtas/House of Pataudi/More by H...</td>\n",
       "      <td>Men</td>\n",
       "    </tr>\n",
       "    <tr>\n",
       "      <th>2</th>\n",
       "      <td>The White Willow</td>\n",
       "      <td>The White Willow Unisex Off-White Therapedic M...</td>\n",
       "      <td>Set content: 1 pillow  Colour: Off white  Fill...</td>\n",
       "      <td>Home/Unisex/Pillows/The White Willow/More by T...</td>\n",
       "      <td>Unisex</td>\n",
       "    </tr>\n",
       "    <tr>\n",
       "      <th>3</th>\n",
       "      <td>Dupatta Bazaar</td>\n",
       "      <td>Dupatta Bazaar Pink Dupatta</td>\n",
       "      <td>Pink dupatta&amp;nbsp;with crinkled effect</td>\n",
       "      <td>Clothing/Women/Dupatta/Dupatta Bazaar/More by ...</td>\n",
       "      <td>Women</td>\n",
       "    </tr>\n",
       "    <tr>\n",
       "      <th>4</th>\n",
       "      <td>Manyavar</td>\n",
       "      <td>Manyavar Men Yellow &amp; White Self Design Kurta ...</td>\n",
       "      <td>Yellow and white self design kurta with churid...</td>\n",
       "      <td>Clothing/Men/Kurta Sets/Manyavar/More by Manyavar</td>\n",
       "      <td>Men</td>\n",
       "    </tr>\n",
       "    <tr>\n",
       "      <th>...</th>\n",
       "      <td>...</td>\n",
       "      <td>...</td>\n",
       "      <td>...</td>\n",
       "      <td>...</td>\n",
       "      <td>...</td>\n",
       "    </tr>\n",
       "    <tr>\n",
       "      <th>14226</th>\n",
       "      <td>Shree</td>\n",
       "      <td>Shree Women Grey &amp; Red Floral Print Maxi Dress</td>\n",
       "      <td>Grey and red floral print woven maxi dress wit...</td>\n",
       "      <td>Clothing/Women/Dresses/Shree/More by Shree</td>\n",
       "      <td>Women</td>\n",
       "    </tr>\n",
       "    <tr>\n",
       "      <th>14227</th>\n",
       "      <td>Freehand</td>\n",
       "      <td>Freehand Men Red &amp; White Self-Design Kurta wit...</td>\n",
       "      <td>Red and white self design kurta with pyjamas R...</td>\n",
       "      <td>Clothing/Men/Kurta Sets/Freehand/More by Freehand</td>\n",
       "      <td>Men</td>\n",
       "    </tr>\n",
       "    <tr>\n",
       "      <th>14228</th>\n",
       "      <td>LilPicks</td>\n",
       "      <td>LilPicks Boys Green &amp; Yellow Printed Kurta wit...</td>\n",
       "      <td>Green and yellow printed kurta with pyjamas  G...</td>\n",
       "      <td>Clothing/Boys/Kurta Sets/LilPicks/More by LilP...</td>\n",
       "      <td>Boys</td>\n",
       "    </tr>\n",
       "    <tr>\n",
       "      <th>14229</th>\n",
       "      <td>Anouk</td>\n",
       "      <td>Anouk Women Green Floral Foil Printed Cardigan</td>\n",
       "      <td>Green printed cardigan, has a V-neck, long sle...</td>\n",
       "      <td>Clothing/Women/Sweaters/Anouk/More by Anouk</td>\n",
       "      <td>Women</td>\n",
       "    </tr>\n",
       "    <tr>\n",
       "      <th>14230</th>\n",
       "      <td>Anouk</td>\n",
       "      <td>Anouk Women Green &amp; White Printed Straight Kurta</td>\n",
       "      <td>Green and white printed straight kurta, has a ...</td>\n",
       "      <td>Clothing/Women/Kurtas/Anouk/More by Anouk</td>\n",
       "      <td>Women</td>\n",
       "    </tr>\n",
       "  </tbody>\n",
       "</table>\n",
       "<p>14231 rows × 5 columns</p>\n",
       "</div>"
      ],
      "text/plain": [
       "                  brand                                              title  \\\n",
       "0                 IMARA                        IMARA Women Black Solid Top   \n",
       "1      House of Pataudi  House of Pataudi Men Black Printed Straight Kurta   \n",
       "2      The White Willow  The White Willow Unisex Off-White Therapedic M...   \n",
       "3        Dupatta Bazaar                        Dupatta Bazaar Pink Dupatta   \n",
       "4              Manyavar  Manyavar Men Yellow & White Self Design Kurta ...   \n",
       "...                 ...                                                ...   \n",
       "14226             Shree     Shree Women Grey & Red Floral Print Maxi Dress   \n",
       "14227          Freehand  Freehand Men Red & White Self-Design Kurta wit...   \n",
       "14228          LilPicks  LilPicks Boys Green & Yellow Printed Kurta wit...   \n",
       "14229             Anouk     Anouk Women Green Floral Foil Printed Cardigan   \n",
       "14230             Anouk   Anouk Women Green & White Printed Straight Kurta   \n",
       "\n",
       "                                         product_details  \\\n",
       "0      Black solid woven regular top,has a V-neck, th...   \n",
       "1      Black printed straight kurta, has a mandarin c...   \n",
       "2      Set content: 1 pillow  Colour: Off white  Fill...   \n",
       "3                 Pink dupatta&nbsp;with crinkled effect   \n",
       "4      Yellow and white self design kurta with churid...   \n",
       "...                                                  ...   \n",
       "14226  Grey and red floral print woven maxi dress wit...   \n",
       "14227  Red and white self design kurta with pyjamas R...   \n",
       "14228  Green and yellow printed kurta with pyjamas  G...   \n",
       "14229  Green printed cardigan, has a V-neck, long sle...   \n",
       "14230  Green and white printed straight kurta, has a ...   \n",
       "\n",
       "                                                    type ideal_for  \n",
       "0                Clothing/Women/Tops/IMARA/More by IMARA     Women  \n",
       "1      Clothing/Men/Kurtas/House of Pataudi/More by H...       Men  \n",
       "2      Home/Unisex/Pillows/The White Willow/More by T...    Unisex  \n",
       "3      Clothing/Women/Dupatta/Dupatta Bazaar/More by ...     Women  \n",
       "4      Clothing/Men/Kurta Sets/Manyavar/More by Manyavar       Men  \n",
       "...                                                  ...       ...  \n",
       "14226         Clothing/Women/Dresses/Shree/More by Shree     Women  \n",
       "14227  Clothing/Men/Kurta Sets/Freehand/More by Freehand       Men  \n",
       "14228  Clothing/Boys/Kurta Sets/LilPicks/More by LilP...      Boys  \n",
       "14229        Clothing/Women/Sweaters/Anouk/More by Anouk     Women  \n",
       "14230          Clothing/Women/Kurtas/Anouk/More by Anouk     Women  \n",
       "\n",
       "[14231 rows x 5 columns]"
      ]
     },
     "execution_count": 12,
     "metadata": {},
     "output_type": "execute_result"
    }
   ],
   "source": [
    "data = data[['brand','title','product_details','type','ideal_for']]\n",
    "data"
   ]
  },
  {
   "cell_type": "code",
   "execution_count": 13,
   "id": "9dcecd77",
   "metadata": {},
   "outputs": [
    {
     "data": {
      "text/html": [
       "<div>\n",
       "<style scoped>\n",
       "    .dataframe tbody tr th:only-of-type {\n",
       "        vertical-align: middle;\n",
       "    }\n",
       "\n",
       "    .dataframe tbody tr th {\n",
       "        vertical-align: top;\n",
       "    }\n",
       "\n",
       "    .dataframe thead th {\n",
       "        text-align: right;\n",
       "    }\n",
       "</style>\n",
       "<table border=\"1\" class=\"dataframe\">\n",
       "  <thead>\n",
       "    <tr style=\"text-align: right;\">\n",
       "      <th></th>\n",
       "      <th>brand</th>\n",
       "      <th>title</th>\n",
       "      <th>product_details</th>\n",
       "      <th>type</th>\n",
       "      <th>ideal_for</th>\n",
       "      <th>tags</th>\n",
       "    </tr>\n",
       "  </thead>\n",
       "  <tbody>\n",
       "    <tr>\n",
       "      <th>0</th>\n",
       "      <td>IMARA</td>\n",
       "      <td>IMARA Women Black Solid Top</td>\n",
       "      <td>Black solid woven regular top,has a V-neck, th...</td>\n",
       "      <td>Clothing/Women/Tops/IMARA/More by IMARA</td>\n",
       "      <td>Women</td>\n",
       "      <td>IMARAIMARA Women Black Solid TopBlack solid wo...</td>\n",
       "    </tr>\n",
       "    <tr>\n",
       "      <th>1</th>\n",
       "      <td>House of Pataudi</td>\n",
       "      <td>House of Pataudi Men Black Printed Straight Kurta</td>\n",
       "      <td>Black printed straight kurta, has a mandarin c...</td>\n",
       "      <td>Clothing/Men/Kurtas/House of Pataudi/More by H...</td>\n",
       "      <td>Men</td>\n",
       "      <td>House of PataudiHouse of Pataudi Men Black Pri...</td>\n",
       "    </tr>\n",
       "    <tr>\n",
       "      <th>2</th>\n",
       "      <td>The White Willow</td>\n",
       "      <td>The White Willow Unisex Off-White Therapedic M...</td>\n",
       "      <td>Set content: 1 pillow  Colour: Off white  Fill...</td>\n",
       "      <td>Home/Unisex/Pillows/The White Willow/More by T...</td>\n",
       "      <td>Unisex</td>\n",
       "      <td>The White WillowThe White Willow Unisex Off-Wh...</td>\n",
       "    </tr>\n",
       "    <tr>\n",
       "      <th>3</th>\n",
       "      <td>Dupatta Bazaar</td>\n",
       "      <td>Dupatta Bazaar Pink Dupatta</td>\n",
       "      <td>Pink dupatta&amp;nbsp;with crinkled effect</td>\n",
       "      <td>Clothing/Women/Dupatta/Dupatta Bazaar/More by ...</td>\n",
       "      <td>Women</td>\n",
       "      <td>Dupatta BazaarDupatta Bazaar Pink DupattaPink ...</td>\n",
       "    </tr>\n",
       "    <tr>\n",
       "      <th>4</th>\n",
       "      <td>Manyavar</td>\n",
       "      <td>Manyavar Men Yellow &amp; White Self Design Kurta ...</td>\n",
       "      <td>Yellow and white self design kurta with churid...</td>\n",
       "      <td>Clothing/Men/Kurta Sets/Manyavar/More by Manyavar</td>\n",
       "      <td>Men</td>\n",
       "      <td>ManyavarManyavar Men Yellow &amp; White Self Desig...</td>\n",
       "    </tr>\n",
       "    <tr>\n",
       "      <th>...</th>\n",
       "      <td>...</td>\n",
       "      <td>...</td>\n",
       "      <td>...</td>\n",
       "      <td>...</td>\n",
       "      <td>...</td>\n",
       "      <td>...</td>\n",
       "    </tr>\n",
       "    <tr>\n",
       "      <th>14226</th>\n",
       "      <td>Shree</td>\n",
       "      <td>Shree Women Grey &amp; Red Floral Print Maxi Dress</td>\n",
       "      <td>Grey and red floral print woven maxi dress wit...</td>\n",
       "      <td>Clothing/Women/Dresses/Shree/More by Shree</td>\n",
       "      <td>Women</td>\n",
       "      <td>ShreeShree Women Grey &amp; Red Floral Print Maxi ...</td>\n",
       "    </tr>\n",
       "    <tr>\n",
       "      <th>14227</th>\n",
       "      <td>Freehand</td>\n",
       "      <td>Freehand Men Red &amp; White Self-Design Kurta wit...</td>\n",
       "      <td>Red and white self design kurta with pyjamas R...</td>\n",
       "      <td>Clothing/Men/Kurta Sets/Freehand/More by Freehand</td>\n",
       "      <td>Men</td>\n",
       "      <td>FreehandFreehand Men Red &amp; White Self-Design K...</td>\n",
       "    </tr>\n",
       "    <tr>\n",
       "      <th>14228</th>\n",
       "      <td>LilPicks</td>\n",
       "      <td>LilPicks Boys Green &amp; Yellow Printed Kurta wit...</td>\n",
       "      <td>Green and yellow printed kurta with pyjamas  G...</td>\n",
       "      <td>Clothing/Boys/Kurta Sets/LilPicks/More by LilP...</td>\n",
       "      <td>Boys</td>\n",
       "      <td>LilPicksLilPicks Boys Green &amp; Yellow Printed K...</td>\n",
       "    </tr>\n",
       "    <tr>\n",
       "      <th>14229</th>\n",
       "      <td>Anouk</td>\n",
       "      <td>Anouk Women Green Floral Foil Printed Cardigan</td>\n",
       "      <td>Green printed cardigan, has a V-neck, long sle...</td>\n",
       "      <td>Clothing/Women/Sweaters/Anouk/More by Anouk</td>\n",
       "      <td>Women</td>\n",
       "      <td>AnoukAnouk Women Green Floral Foil Printed Car...</td>\n",
       "    </tr>\n",
       "    <tr>\n",
       "      <th>14230</th>\n",
       "      <td>Anouk</td>\n",
       "      <td>Anouk Women Green &amp; White Printed Straight Kurta</td>\n",
       "      <td>Green and white printed straight kurta, has a ...</td>\n",
       "      <td>Clothing/Women/Kurtas/Anouk/More by Anouk</td>\n",
       "      <td>Women</td>\n",
       "      <td>AnoukAnouk Women Green &amp; White Printed Straigh...</td>\n",
       "    </tr>\n",
       "  </tbody>\n",
       "</table>\n",
       "<p>14231 rows × 6 columns</p>\n",
       "</div>"
      ],
      "text/plain": [
       "                  brand                                              title  \\\n",
       "0                 IMARA                        IMARA Women Black Solid Top   \n",
       "1      House of Pataudi  House of Pataudi Men Black Printed Straight Kurta   \n",
       "2      The White Willow  The White Willow Unisex Off-White Therapedic M...   \n",
       "3        Dupatta Bazaar                        Dupatta Bazaar Pink Dupatta   \n",
       "4              Manyavar  Manyavar Men Yellow & White Self Design Kurta ...   \n",
       "...                 ...                                                ...   \n",
       "14226             Shree     Shree Women Grey & Red Floral Print Maxi Dress   \n",
       "14227          Freehand  Freehand Men Red & White Self-Design Kurta wit...   \n",
       "14228          LilPicks  LilPicks Boys Green & Yellow Printed Kurta wit...   \n",
       "14229             Anouk     Anouk Women Green Floral Foil Printed Cardigan   \n",
       "14230             Anouk   Anouk Women Green & White Printed Straight Kurta   \n",
       "\n",
       "                                         product_details  \\\n",
       "0      Black solid woven regular top,has a V-neck, th...   \n",
       "1      Black printed straight kurta, has a mandarin c...   \n",
       "2      Set content: 1 pillow  Colour: Off white  Fill...   \n",
       "3                 Pink dupatta&nbsp;with crinkled effect   \n",
       "4      Yellow and white self design kurta with churid...   \n",
       "...                                                  ...   \n",
       "14226  Grey and red floral print woven maxi dress wit...   \n",
       "14227  Red and white self design kurta with pyjamas R...   \n",
       "14228  Green and yellow printed kurta with pyjamas  G...   \n",
       "14229  Green printed cardigan, has a V-neck, long sle...   \n",
       "14230  Green and white printed straight kurta, has a ...   \n",
       "\n",
       "                                                    type ideal_for  \\\n",
       "0                Clothing/Women/Tops/IMARA/More by IMARA     Women   \n",
       "1      Clothing/Men/Kurtas/House of Pataudi/More by H...       Men   \n",
       "2      Home/Unisex/Pillows/The White Willow/More by T...    Unisex   \n",
       "3      Clothing/Women/Dupatta/Dupatta Bazaar/More by ...     Women   \n",
       "4      Clothing/Men/Kurta Sets/Manyavar/More by Manyavar       Men   \n",
       "...                                                  ...       ...   \n",
       "14226         Clothing/Women/Dresses/Shree/More by Shree     Women   \n",
       "14227  Clothing/Men/Kurta Sets/Freehand/More by Freehand       Men   \n",
       "14228  Clothing/Boys/Kurta Sets/LilPicks/More by LilP...      Boys   \n",
       "14229        Clothing/Women/Sweaters/Anouk/More by Anouk     Women   \n",
       "14230          Clothing/Women/Kurtas/Anouk/More by Anouk     Women   \n",
       "\n",
       "                                                    tags  \n",
       "0      IMARAIMARA Women Black Solid TopBlack solid wo...  \n",
       "1      House of PataudiHouse of Pataudi Men Black Pri...  \n",
       "2      The White WillowThe White Willow Unisex Off-Wh...  \n",
       "3      Dupatta BazaarDupatta Bazaar Pink DupattaPink ...  \n",
       "4      ManyavarManyavar Men Yellow & White Self Desig...  \n",
       "...                                                  ...  \n",
       "14226  ShreeShree Women Grey & Red Floral Print Maxi ...  \n",
       "14227  FreehandFreehand Men Red & White Self-Design K...  \n",
       "14228  LilPicksLilPicks Boys Green & Yellow Printed K...  \n",
       "14229  AnoukAnouk Women Green Floral Foil Printed Car...  \n",
       "14230  AnoukAnouk Women Green & White Printed Straigh...  \n",
       "\n",
       "[14231 rows x 6 columns]"
      ]
     },
     "execution_count": 13,
     "metadata": {},
     "output_type": "execute_result"
    }
   ],
   "source": [
    "data['tags'] = data['brand']+ data['title']+data['product_details']+['type']\n",
    "data"
   ]
  },
  {
   "cell_type": "code",
   "execution_count": 14,
   "id": "63808bd8",
   "metadata": {},
   "outputs": [],
   "source": [
    "data['tags']=data['tags'].fillna('')"
   ]
  },
  {
   "cell_type": "code",
   "execution_count": 15,
   "id": "4870be35",
   "metadata": {},
   "outputs": [
    {
     "data": {
      "text/plain": [
       "'House of PataudiHouse of Pataudi Men Black Printed Straight KurtaBlack printed straight kurta, has a mandarin collar, long sleeves, straight hem, side slits and two pocketstype'"
      ]
     },
     "execution_count": 15,
     "metadata": {},
     "output_type": "execute_result"
    }
   ],
   "source": [
    "data.iloc[1].tags"
   ]
  },
  {
   "cell_type": "code",
   "execution_count": 16,
   "id": "67eb8d09",
   "metadata": {},
   "outputs": [
    {
     "data": {
      "text/plain": [
       "'ManyavarManyavar Men Yellow & White Self Design Kurta with ChuridarYellow and white self design kurta with churidarYellow straight knee length kurta, has a mandarin collar, long sleeves, straight hem, side slitsWhite solid churidar, drawstring closure\\xa0type'"
      ]
     },
     "execution_count": 16,
     "metadata": {},
     "output_type": "execute_result"
    }
   ],
   "source": [
    "data.iloc[4].tags"
   ]
  },
  {
   "cell_type": "code",
   "execution_count": 17,
   "id": "bd46fa34",
   "metadata": {},
   "outputs": [
    {
     "data": {
      "text/plain": [
       "brand              0\n",
       "title              0\n",
       "product_details    0\n",
       "type               0\n",
       "ideal_for          0\n",
       "tags               0\n",
       "dtype: int64"
      ]
     },
     "execution_count": 17,
     "metadata": {},
     "output_type": "execute_result"
    }
   ],
   "source": [
    "data.isnull().sum()\n"
   ]
  },
  {
   "cell_type": "code",
   "execution_count": 18,
   "id": "33644616",
   "metadata": {},
   "outputs": [
    {
     "data": {
      "text/plain": [
       "2193"
      ]
     },
     "execution_count": 18,
     "metadata": {},
     "output_type": "execute_result"
    }
   ],
   "source": [
    "data.duplicated().sum()"
   ]
  },
  {
   "cell_type": "code",
   "execution_count": 19,
   "id": "59b3a41b",
   "metadata": {},
   "outputs": [],
   "source": [
    "from sklearn.feature_extraction.text import TfidfVectorizer"
   ]
  },
  {
   "cell_type": "code",
   "execution_count": 20,
   "id": "3c55d749",
   "metadata": {},
   "outputs": [],
   "source": [
    "from sklearn.feature_extraction.text import CountVectorizer\n",
    "cv = CountVectorizer(max_features=5000,stop_words='english')"
   ]
  },
  {
   "cell_type": "code",
   "execution_count": 21,
   "id": "b3876e8e",
   "metadata": {},
   "outputs": [
    {
     "data": {
      "text/html": [
       "<style>#sk-container-id-1 {color: black;background-color: white;}#sk-container-id-1 pre{padding: 0;}#sk-container-id-1 div.sk-toggleable {background-color: white;}#sk-container-id-1 label.sk-toggleable__label {cursor: pointer;display: block;width: 100%;margin-bottom: 0;padding: 0.3em;box-sizing: border-box;text-align: center;}#sk-container-id-1 label.sk-toggleable__label-arrow:before {content: \"▸\";float: left;margin-right: 0.25em;color: #696969;}#sk-container-id-1 label.sk-toggleable__label-arrow:hover:before {color: black;}#sk-container-id-1 div.sk-estimator:hover label.sk-toggleable__label-arrow:before {color: black;}#sk-container-id-1 div.sk-toggleable__content {max-height: 0;max-width: 0;overflow: hidden;text-align: left;background-color: #f0f8ff;}#sk-container-id-1 div.sk-toggleable__content pre {margin: 0.2em;color: black;border-radius: 0.25em;background-color: #f0f8ff;}#sk-container-id-1 input.sk-toggleable__control:checked~div.sk-toggleable__content {max-height: 200px;max-width: 100%;overflow: auto;}#sk-container-id-1 input.sk-toggleable__control:checked~label.sk-toggleable__label-arrow:before {content: \"▾\";}#sk-container-id-1 div.sk-estimator input.sk-toggleable__control:checked~label.sk-toggleable__label {background-color: #d4ebff;}#sk-container-id-1 div.sk-label input.sk-toggleable__control:checked~label.sk-toggleable__label {background-color: #d4ebff;}#sk-container-id-1 input.sk-hidden--visually {border: 0;clip: rect(1px 1px 1px 1px);clip: rect(1px, 1px, 1px, 1px);height: 1px;margin: -1px;overflow: hidden;padding: 0;position: absolute;width: 1px;}#sk-container-id-1 div.sk-estimator {font-family: monospace;background-color: #f0f8ff;border: 1px dotted black;border-radius: 0.25em;box-sizing: border-box;margin-bottom: 0.5em;}#sk-container-id-1 div.sk-estimator:hover {background-color: #d4ebff;}#sk-container-id-1 div.sk-parallel-item::after {content: \"\";width: 100%;border-bottom: 1px solid gray;flex-grow: 1;}#sk-container-id-1 div.sk-label:hover label.sk-toggleable__label {background-color: #d4ebff;}#sk-container-id-1 div.sk-serial::before {content: \"\";position: absolute;border-left: 1px solid gray;box-sizing: border-box;top: 0;bottom: 0;left: 50%;z-index: 0;}#sk-container-id-1 div.sk-serial {display: flex;flex-direction: column;align-items: center;background-color: white;padding-right: 0.2em;padding-left: 0.2em;position: relative;}#sk-container-id-1 div.sk-item {position: relative;z-index: 1;}#sk-container-id-1 div.sk-parallel {display: flex;align-items: stretch;justify-content: center;background-color: white;position: relative;}#sk-container-id-1 div.sk-item::before, #sk-container-id-1 div.sk-parallel-item::before {content: \"\";position: absolute;border-left: 1px solid gray;box-sizing: border-box;top: 0;bottom: 0;left: 50%;z-index: -1;}#sk-container-id-1 div.sk-parallel-item {display: flex;flex-direction: column;z-index: 1;position: relative;background-color: white;}#sk-container-id-1 div.sk-parallel-item:first-child::after {align-self: flex-end;width: 50%;}#sk-container-id-1 div.sk-parallel-item:last-child::after {align-self: flex-start;width: 50%;}#sk-container-id-1 div.sk-parallel-item:only-child::after {width: 0;}#sk-container-id-1 div.sk-dashed-wrapped {border: 1px dashed gray;margin: 0 0.4em 0.5em 0.4em;box-sizing: border-box;padding-bottom: 0.4em;background-color: white;}#sk-container-id-1 div.sk-label label {font-family: monospace;font-weight: bold;display: inline-block;line-height: 1.2em;}#sk-container-id-1 div.sk-label-container {text-align: center;}#sk-container-id-1 div.sk-container {/* jupyter's `normalize.less` sets `[hidden] { display: none; }` but bootstrap.min.css set `[hidden] { display: none !important; }` so we also need the `!important` here to be able to override the default hidden behavior on the sphinx rendered scikit-learn.org. See: https://github.com/scikit-learn/scikit-learn/issues/21755 */display: inline-block !important;position: relative;}#sk-container-id-1 div.sk-text-repr-fallback {display: none;}</style><div id=\"sk-container-id-1\" class=\"sk-top-container\"><div class=\"sk-text-repr-fallback\"><pre>CountVectorizer(max_features=5000, stop_words=&#x27;english&#x27;)</pre><b>In a Jupyter environment, please rerun this cell to show the HTML representation or trust the notebook. <br />On GitHub, the HTML representation is unable to render, please try loading this page with nbviewer.org.</b></div><div class=\"sk-container\" hidden><div class=\"sk-item\"><div class=\"sk-estimator sk-toggleable\"><input class=\"sk-toggleable__control sk-hidden--visually\" id=\"sk-estimator-id-1\" type=\"checkbox\" checked><label for=\"sk-estimator-id-1\" class=\"sk-toggleable__label sk-toggleable__label-arrow\">CountVectorizer</label><div class=\"sk-toggleable__content\"><pre>CountVectorizer(max_features=5000, stop_words=&#x27;english&#x27;)</pre></div></div></div></div></div>"
      ],
      "text/plain": [
       "CountVectorizer(max_features=5000, stop_words='english')"
      ]
     },
     "execution_count": 21,
     "metadata": {},
     "output_type": "execute_result"
    }
   ],
   "source": [
    "cv"
   ]
  },
  {
   "cell_type": "code",
   "execution_count": 22,
   "id": "0399d6d7",
   "metadata": {},
   "outputs": [
    {
     "data": {
      "text/plain": [
       "<14231x5000 sparse matrix of type '<class 'numpy.int64'>'\n",
       "\twith 269730 stored elements in Compressed Sparse Row format>"
      ]
     },
     "execution_count": 22,
     "metadata": {},
     "output_type": "execute_result"
    }
   ],
   "source": [
    "vectors = cv.fit_transform(data['tags'])#  .toarray().shape\n",
    "vectors"
   ]
  },
  {
   "cell_type": "code",
   "execution_count": 23,
   "id": "1a61211e",
   "metadata": {},
   "outputs": [
    {
     "data": {
      "text/plain": [
       "<1x5000 sparse matrix of type '<class 'numpy.int64'>'\n",
       "\twith 16 stored elements in Compressed Sparse Row format>"
      ]
     },
     "execution_count": 23,
     "metadata": {},
     "output_type": "execute_result"
    }
   ],
   "source": [
    "vectors[1]"
   ]
  },
  {
   "cell_type": "code",
   "execution_count": 24,
   "id": "19634ca1",
   "metadata": {},
   "outputs": [
    {
     "name": "stdout",
     "output_type": "stream",
     "text": [
      "['100' '1000' '100cms' ... 'zoire' 'zoirela' 'zotwzotw']\n"
     ]
    }
   ],
   "source": [
    "print(cv.get_feature_names_out())"
   ]
  },
  {
   "cell_type": "code",
   "execution_count": 25,
   "id": "63e1f305",
   "metadata": {},
   "outputs": [
    {
     "data": {
      "text/plain": [
       "array(['100', '1000', '100cms', ..., 'zoire', 'zoirela', 'zotwzotw'],\n",
       "      dtype=object)"
      ]
     },
     "execution_count": 25,
     "metadata": {},
     "output_type": "execute_result"
    }
   ],
   "source": [
    "cv.get_feature_names_out()"
   ]
  },
  {
   "cell_type": "code",
   "execution_count": 29,
   "id": "b1d6d0ca",
   "metadata": {},
   "outputs": [],
   "source": [
    "from sklearn.metrics.pairwise import cosine_similarity"
   ]
  },
  {
   "cell_type": "code",
   "execution_count": 30,
   "id": "f7ce6f05",
   "metadata": {},
   "outputs": [
    {
     "data": {
      "text/plain": [
       "array([1.        , 0.0993808 , 0.03305898, ..., 0.1       , 0.19364917,\n",
       "       0.09759001])"
      ]
     },
     "execution_count": 30,
     "metadata": {},
     "output_type": "execute_result"
    }
   ],
   "source": [
    "similarity = cosine_similarity(vectors)\n",
    "similarity[0]"
   ]
  },
  {
   "cell_type": "code",
   "execution_count": 31,
   "id": "8f768d1f",
   "metadata": {},
   "outputs": [
    {
     "data": {
      "text/plain": [
       "[(11946, 0.5853694070049635),\n",
       " (11337, 0.5720775535473555),\n",
       " (6858, 0.5222329678670936),\n",
       " (5903, 0.51425947722658),\n",
       " (1042, 0.45226701686664544)]"
      ]
     },
     "execution_count": 31,
     "metadata": {},
     "output_type": "execute_result"
    }
   ],
   "source": [
    "#list(enumerate(similarity[0]))\n",
    "sorted(list(enumerate(similarity[3])),reverse=True,key=lambda x:x[1])[1:6]"
   ]
  },
  {
   "cell_type": "code",
   "execution_count": null,
   "id": "041871df",
   "metadata": {},
   "outputs": [],
   "source": [
    "data['tags'][11]"
   ]
  },
  {
   "cell_type": "code",
   "execution_count": null,
   "id": "4d0c9d0d",
   "metadata": {},
   "outputs": [],
   "source": [
    "data['tags'][3]"
   ]
  },
  {
   "cell_type": "code",
   "execution_count": null,
   "id": "9d600662",
   "metadata": {},
   "outputs": [],
   "source": [
    "data['tags'][10943]"
   ]
  },
  {
   "cell_type": "code",
   "execution_count": null,
   "id": "70b5b8b7",
   "metadata": {},
   "outputs": [],
   "source": [
    "data['tags'][9578]"
   ]
  },
  {
   "cell_type": "code",
   "execution_count": null,
   "id": "31dbc21f",
   "metadata": {},
   "outputs": [],
   "source": [
    "data['tags'][1844]"
   ]
  },
  {
   "cell_type": "code",
   "execution_count": null,
   "id": "6825f980",
   "metadata": {},
   "outputs": [],
   "source": [
    "data['tags'][2000]"
   ]
  },
  {
   "cell_type": "code",
   "execution_count": null,
   "id": "956cb8b9",
   "metadata": {},
   "outputs": [],
   "source": [
    "data[['title']].iloc[10025]"
   ]
  },
  {
   "cell_type": "code",
   "execution_count": null,
   "id": "c0681087",
   "metadata": {},
   "outputs": [],
   "source": [
    "data[['title']].iloc[10943]"
   ]
  },
  {
   "cell_type": "code",
   "execution_count": 23,
   "id": "22ae3592",
   "metadata": {},
   "outputs": [
    {
     "data": {
      "text/html": [
       "<div>\n",
       "<style scoped>\n",
       "    .dataframe tbody tr th:only-of-type {\n",
       "        vertical-align: middle;\n",
       "    }\n",
       "\n",
       "    .dataframe tbody tr th {\n",
       "        vertical-align: top;\n",
       "    }\n",
       "\n",
       "    .dataframe thead th {\n",
       "        text-align: right;\n",
       "    }\n",
       "</style>\n",
       "<table border=\"1\" class=\"dataframe\">\n",
       "  <thead>\n",
       "    <tr style=\"text-align: right;\">\n",
       "      <th></th>\n",
       "      <th>uniq_id</th>\n",
       "      <th>crawl_timestamp</th>\n",
       "      <th>product_id</th>\n",
       "      <th>link</th>\n",
       "      <th>size</th>\n",
       "      <th>variant_sku</th>\n",
       "      <th>brand</th>\n",
       "      <th>care_instructions</th>\n",
       "      <th>dominant_material</th>\n",
       "      <th>title</th>\n",
       "      <th>...</th>\n",
       "      <th>product_details</th>\n",
       "      <th>size_fit</th>\n",
       "      <th>complete_the_look</th>\n",
       "      <th>type</th>\n",
       "      <th>variant_price</th>\n",
       "      <th>variant_compare_at_price</th>\n",
       "      <th>ideal_for</th>\n",
       "      <th>is_in_stock</th>\n",
       "      <th>inventory</th>\n",
       "      <th>specifications</th>\n",
       "    </tr>\n",
       "  </thead>\n",
       "  <tbody>\n",
       "    <tr>\n",
       "      <th>0</th>\n",
       "      <td>cc51c3dd925d9d84e2fb28c7918dbbc3</td>\n",
       "      <td>2019-08-11 05:49:46 +0000</td>\n",
       "      <td>6937673</td>\n",
       "      <td>https://www.myntra.com/tops/imara/imara-women-...</td>\n",
       "      <td>XL</td>\n",
       "      <td>6937673_XL</td>\n",
       "      <td>IMARA</td>\n",
       "      <td>Polyester | Dry-clean</td>\n",
       "      <td>Polyester</td>\n",
       "      <td>IMARA Women Black Solid Top</td>\n",
       "      <td>...</td>\n",
       "      <td>Black solid woven regular top,has a V-neck, th...</td>\n",
       "      <td>The model (height 5'8\") is wearing a size S</td>\n",
       "      <td>Improve your personal style with a brand new t...</td>\n",
       "      <td>Clothing/Women/Tops/IMARA/More by IMARA</td>\n",
       "      <td>959</td>\n",
       "      <td>1599</td>\n",
       "      <td>Women</td>\n",
       "      <td>Out of Stock</td>\n",
       "      <td>0</td>\n",
       "      <td>Transparency : Opaque | Sleeve Styling : Bell ...</td>\n",
       "    </tr>\n",
       "    <tr>\n",
       "      <th>1</th>\n",
       "      <td>c7e2fe388a93dae5c86b50dd8a5dbd7a</td>\n",
       "      <td>2019-07-03 01:04:34 +0000</td>\n",
       "      <td>7441182</td>\n",
       "      <td>https://www.myntra.com/kurtas/house-of-pataudi...</td>\n",
       "      <td>XL</td>\n",
       "      <td>7441182_XL</td>\n",
       "      <td>House of Pataudi</td>\n",
       "      <td>100% cottonMachine-wash</td>\n",
       "      <td>cotton</td>\n",
       "      <td>House of Pataudi Men Black Printed Straight Kurta</td>\n",
       "      <td>...</td>\n",
       "      <td>Black printed straight kurta, has a mandarin c...</td>\n",
       "      <td>The model (height 6') is wearing a size M</td>\n",
       "      <td>From House of Pataudi, this kurta is a great w...</td>\n",
       "      <td>Clothing/Men/Kurtas/House of Pataudi/More by H...</td>\n",
       "      <td>799</td>\n",
       "      <td>1999</td>\n",
       "      <td>Men</td>\n",
       "      <td>In Stock</td>\n",
       "      <td>Shape : Straight | Sleeve Styling : Regular Sl...</td>\n",
       "      <td>NaN</td>\n",
       "    </tr>\n",
       "    <tr>\n",
       "      <th>2</th>\n",
       "      <td>76949d78057a633aace6246045eefd66</td>\n",
       "      <td>2019-07-15 09:43:31 +0000</td>\n",
       "      <td>9245141</td>\n",
       "      <td>https://www.myntra.com/pillows/the-white-willo...</td>\n",
       "      <td>S</td>\n",
       "      <td>9245141_S</td>\n",
       "      <td>The White Willow</td>\n",
       "      <td>Polycotton | Only spot clean by hand with warm...</td>\n",
       "      <td>Cotton</td>\n",
       "      <td>The White Willow Unisex Off-White Therapedic M...</td>\n",
       "      <td>...</td>\n",
       "      <td>Set content: 1 pillow  Colour: Off white  Fill...</td>\n",
       "      <td>Dimensions: 58.42 cm x 33.02 cm x 10.16 cm</td>\n",
       "      <td>The White Willow has been founded with the vis...</td>\n",
       "      <td>Home/Unisex/Pillows/The White Willow/More by T...</td>\n",
       "      <td>1399</td>\n",
       "      <td>2799</td>\n",
       "      <td>Unisex</td>\n",
       "      <td>In Stock</td>\n",
       "      <td>Number of Components : 1 | Material : Polycott...</td>\n",
       "      <td>NaN</td>\n",
       "    </tr>\n",
       "    <tr>\n",
       "      <th>3</th>\n",
       "      <td>5f83f6b51da1ef93bc0585577b6991e6</td>\n",
       "      <td>2019-07-15 14:11:14 +0000</td>\n",
       "      <td>1314889</td>\n",
       "      <td>https://www.myntra.com/dupatta/dupatta-bazaar/...</td>\n",
       "      <td>Onesize</td>\n",
       "      <td>1314889_Onesize</td>\n",
       "      <td>Dupatta Bazaar</td>\n",
       "      <td>Chiffon | Hand-wash</td>\n",
       "      <td>Chiffon</td>\n",
       "      <td>Dupatta Bazaar Pink Dupatta</td>\n",
       "      <td>...</td>\n",
       "      <td>Pink dupatta&amp;nbsp;with crinkled effect</td>\n",
       "      <td>Length: 2.3 metres Width: 1.1 metres</td>\n",
       "      <td>Complement your ethnic ensemble with this dupa...</td>\n",
       "      <td>Clothing/Women/Dupatta/Dupatta Bazaar/More by ...</td>\n",
       "      <td>349</td>\n",
       "      <td>499</td>\n",
       "      <td>Women</td>\n",
       "      <td>In Stock</td>\n",
       "      <td>Pattern : Solid | Occasion : Daily | Border : ...</td>\n",
       "      <td>NaN</td>\n",
       "    </tr>\n",
       "    <tr>\n",
       "      <th>4</th>\n",
       "      <td>890bf4355c319a4211296b9d3176d11f</td>\n",
       "      <td>2019-06-01 08:17:28 +0000</td>\n",
       "      <td>7705322</td>\n",
       "      <td>https://www.myntra.com/kurta-sets/manyavar/man...</td>\n",
       "      <td>S</td>\n",
       "      <td>7705322_S</td>\n",
       "      <td>Manyavar</td>\n",
       "      <td>Top fabric: Silk Blend | Bottom fabric: Silk B...</td>\n",
       "      <td>Silk</td>\n",
       "      <td>Manyavar Men Yellow &amp; White Self Design Kurta ...</td>\n",
       "      <td>...</td>\n",
       "      <td>Yellow and white self design kurta with churid...</td>\n",
       "      <td>The model (height 6') is wearing a size M</td>\n",
       "      <td>From Manyavar, this kurta is a great way to sh...</td>\n",
       "      <td>Clothing/Men/Kurta Sets/Manyavar/More by Manyavar</td>\n",
       "      <td>2999</td>\n",
       "      <td>2999</td>\n",
       "      <td>Men</td>\n",
       "      <td>Out of Stock</td>\n",
       "      <td>Occasion : Festive | Number of Components : 2 ...</td>\n",
       "      <td>NaN</td>\n",
       "    </tr>\n",
       "  </tbody>\n",
       "</table>\n",
       "<p>5 rows × 25 columns</p>\n",
       "</div>"
      ],
      "text/plain": [
       "                            uniq_id            crawl_timestamp  product_id  \\\n",
       "0  cc51c3dd925d9d84e2fb28c7918dbbc3  2019-08-11 05:49:46 +0000     6937673   \n",
       "1  c7e2fe388a93dae5c86b50dd8a5dbd7a  2019-07-03 01:04:34 +0000     7441182   \n",
       "2  76949d78057a633aace6246045eefd66  2019-07-15 09:43:31 +0000     9245141   \n",
       "3  5f83f6b51da1ef93bc0585577b6991e6  2019-07-15 14:11:14 +0000     1314889   \n",
       "4  890bf4355c319a4211296b9d3176d11f  2019-06-01 08:17:28 +0000     7705322   \n",
       "\n",
       "                                                link     size  \\\n",
       "0  https://www.myntra.com/tops/imara/imara-women-...       XL   \n",
       "1  https://www.myntra.com/kurtas/house-of-pataudi...       XL   \n",
       "2  https://www.myntra.com/pillows/the-white-willo...        S   \n",
       "3  https://www.myntra.com/dupatta/dupatta-bazaar/...  Onesize   \n",
       "4  https://www.myntra.com/kurta-sets/manyavar/man...        S   \n",
       "\n",
       "       variant_sku             brand  \\\n",
       "0       6937673_XL             IMARA   \n",
       "1       7441182_XL  House of Pataudi   \n",
       "2        9245141_S  The White Willow   \n",
       "3  1314889_Onesize    Dupatta Bazaar   \n",
       "4        7705322_S          Manyavar   \n",
       "\n",
       "                                   care_instructions dominant_material  \\\n",
       "0                              Polyester | Dry-clean         Polyester   \n",
       "1                            100% cottonMachine-wash            cotton   \n",
       "2  Polycotton | Only spot clean by hand with warm...            Cotton   \n",
       "3                                Chiffon | Hand-wash           Chiffon   \n",
       "4  Top fabric: Silk Blend | Bottom fabric: Silk B...              Silk   \n",
       "\n",
       "                                               title  ...  \\\n",
       "0                        IMARA Women Black Solid Top  ...   \n",
       "1  House of Pataudi Men Black Printed Straight Kurta  ...   \n",
       "2  The White Willow Unisex Off-White Therapedic M...  ...   \n",
       "3                        Dupatta Bazaar Pink Dupatta  ...   \n",
       "4  Manyavar Men Yellow & White Self Design Kurta ...  ...   \n",
       "\n",
       "                                     product_details  \\\n",
       "0  Black solid woven regular top,has a V-neck, th...   \n",
       "1  Black printed straight kurta, has a mandarin c...   \n",
       "2  Set content: 1 pillow  Colour: Off white  Fill...   \n",
       "3             Pink dupatta&nbsp;with crinkled effect   \n",
       "4  Yellow and white self design kurta with churid...   \n",
       "\n",
       "                                      size_fit  \\\n",
       "0  The model (height 5'8\") is wearing a size S   \n",
       "1    The model (height 6') is wearing a size M   \n",
       "2  Dimensions: 58.42 cm x 33.02 cm x 10.16 cm    \n",
       "3         Length: 2.3 metres Width: 1.1 metres   \n",
       "4    The model (height 6') is wearing a size M   \n",
       "\n",
       "                                   complete_the_look  \\\n",
       "0  Improve your personal style with a brand new t...   \n",
       "1  From House of Pataudi, this kurta is a great w...   \n",
       "2  The White Willow has been founded with the vis...   \n",
       "3  Complement your ethnic ensemble with this dupa...   \n",
       "4  From Manyavar, this kurta is a great way to sh...   \n",
       "\n",
       "                                                type variant_price  \\\n",
       "0            Clothing/Women/Tops/IMARA/More by IMARA           959   \n",
       "1  Clothing/Men/Kurtas/House of Pataudi/More by H...           799   \n",
       "2  Home/Unisex/Pillows/The White Willow/More by T...          1399   \n",
       "3  Clothing/Women/Dupatta/Dupatta Bazaar/More by ...           349   \n",
       "4  Clothing/Men/Kurta Sets/Manyavar/More by Manyavar          2999   \n",
       "\n",
       "  variant_compare_at_price ideal_for   is_in_stock  \\\n",
       "0                     1599     Women  Out of Stock   \n",
       "1                     1999       Men      In Stock   \n",
       "2                     2799    Unisex      In Stock   \n",
       "3                      499     Women      In Stock   \n",
       "4                     2999       Men  Out of Stock   \n",
       "\n",
       "                                           inventory  \\\n",
       "0                                                  0   \n",
       "1  Shape : Straight | Sleeve Styling : Regular Sl...   \n",
       "2  Number of Components : 1 | Material : Polycott...   \n",
       "3  Pattern : Solid | Occasion : Daily | Border : ...   \n",
       "4  Occasion : Festive | Number of Components : 2 ...   \n",
       "\n",
       "                                      specifications  \n",
       "0  Transparency : Opaque | Sleeve Styling : Bell ...  \n",
       "1                                                NaN  \n",
       "2                                                NaN  \n",
       "3                                                NaN  \n",
       "4                                                NaN  \n",
       "\n",
       "[5 rows x 25 columns]"
      ]
     },
     "execution_count": 23,
     "metadata": {},
     "output_type": "execute_result"
    }
   ],
   "source": [
    "new_df = pd.read_csv('myntra_product.csv',on_bad_lines='skip')\n",
    "new_df.head(5)"
   ]
  },
  {
   "cell_type": "code",
   "execution_count": null,
   "id": "6bfc129f",
   "metadata": {},
   "outputs": [],
   "source": [
    "new_df[['link']].iloc[514]"
   ]
  },
  {
   "cell_type": "code",
   "execution_count": 39,
   "id": "e634532b",
   "metadata": {},
   "outputs": [
    {
     "data": {
      "text/plain": [
       "title    IMARA Women Black Solid Top\n",
       "Name: 0, dtype: object"
      ]
     },
     "execution_count": 39,
     "metadata": {},
     "output_type": "execute_result"
    }
   ],
   "source": [
    "new_df[['title']].iloc[0] "
   ]
  },
  {
   "cell_type": "code",
   "execution_count": 108,
   "id": "b1088812",
   "metadata": {},
   "outputs": [
    {
     "data": {
      "text/plain": [
       "link    https://www.myntra.com/palazzos/vishudh/vishud...\n",
       "Name: 10316, dtype: object"
      ]
     },
     "execution_count": 108,
     "metadata": {},
     "output_type": "execute_result"
    }
   ],
   "source": [
    "new_df[['link']].iloc[10316]   "
   ]
  },
  {
   "cell_type": "code",
   "execution_count": 51,
   "id": "9e6e5aeb",
   "metadata": {},
   "outputs": [
    {
     "data": {
      "text/plain": [
       "images    http://assets.myntassets.com/v1/assets/images/...\n",
       "Name: 11946, dtype: object"
      ]
     },
     "execution_count": 51,
     "metadata": {},
     "output_type": "execute_result"
    }
   ],
   "source": [
    "new_df[['images']].iloc[11946]"
   ]
  },
  {
   "cell_type": "code",
   "execution_count": 52,
   "id": "51f0b810",
   "metadata": {},
   "outputs": [
    {
     "data": {
      "text/plain": [
       "link                         https://www.myntra.com/1314868\n",
       "images    http://assets.myntassets.com/v1/assets/images/...\n",
       "Name: 11946, dtype: object"
      ]
     },
     "execution_count": 52,
     "metadata": {},
     "output_type": "execute_result"
    }
   ],
   "source": [
    "new_df[['link','images']].iloc[11946]"
   ]
  },
  {
   "cell_type": "code",
   "execution_count": 57,
   "id": "c135d314",
   "metadata": {},
   "outputs": [
    {
     "data": {
      "text/plain": [
       "'http://assets.myntassets.com/v1/assets/images/1314868/2016/4/20/11461152959885-Dupatta-Bazaar-Women-Dupatta-1711461152959632-1.jpg | http://assets.myntassets.com/v1/assets/images/1314868/2016/4/20/11461152959795-Dupatta-Bazaar-Women-Dupatta-1711461152959632-2.jpg | http://assets.myntassets.com/v1/assets/images/1314868/2016/4/20/11461152959723-Dupatta-Bazaar-Women-Dupatta-1711461152959632-3.jpg'"
      ]
     },
     "execution_count": 57,
     "metadata": {},
     "output_type": "execute_result"
    }
   ],
   "source": [
    "new_df['images'][11946]"
   ]
  },
  {
   "cell_type": "code",
   "execution_count": 59,
   "id": "d64044f2",
   "metadata": {},
   "outputs": [
    {
     "data": {
      "text/plain": [
       "title    Libas Women Purple Printed Kurta with Palazzos\n",
       "Name: 100, dtype: object"
      ]
     },
     "execution_count": 59,
     "metadata": {},
     "output_type": "execute_result"
    }
   ],
   "source": [
    "data[['title']].iloc[100]"
   ]
  },
  {
   "cell_type": "code",
   "execution_count": 61,
   "id": "2f88274d",
   "metadata": {},
   "outputs": [
    {
     "data": {
      "text/plain": [
       "title    DEYANN Men Copper-Coloured & Blue Solid Kurta ...\n",
       "Name: 101, dtype: object"
      ]
     },
     "execution_count": 61,
     "metadata": {},
     "output_type": "execute_result"
    }
   ],
   "source": [
    "data[['title']].iloc[101]"
   ]
  },
  {
   "cell_type": "code",
   "execution_count": 31,
   "id": "b5317c7c",
   "metadata": {},
   "outputs": [],
   "source": [
    "# beginging"
   ]
  },
  {
   "cell_type": "code",
   "execution_count": 34,
   "id": "4cb14403",
   "metadata": {},
   "outputs": [],
   "source": [
    "def recommend(data):\n",
    "    new_df_index = new_df[new_df['title']==data].index[0]\n",
    "    distances = similarity[new_df_index]\n",
    "    data_list = sorted(list(enumerate(distances)),reverse=True,key=lambda x:x[1])[1:6]\n",
    "    for i in data_list:\n",
    "        print(new_df.iloc[i[0]].title)"
   ]
  },
  {
   "cell_type": "code",
   "execution_count": 35,
   "id": "58ae9469",
   "metadata": {},
   "outputs": [
    {
     "name": "stdout",
     "output_type": "stream",
     "text": [
      "Libas Women Purple Printed Kurta with Palazzos\n",
      "Libas Women Brown & Golden Printed Kurta with Skirt\n",
      "Libas Women Green & Golden Printed Kurta with Palazzos\n",
      "Libas Women Pink & Golden Printed Kurta with Trousers\n",
      "Libas Women Green Printed Kurta with Palazzos\n"
     ]
    }
   ],
   "source": [
    "recommend('Libas Women Purple Printed Kurta with Palazzos')"
   ]
  },
  {
   "cell_type": "code",
   "execution_count": 36,
   "id": "2dca75d4",
   "metadata": {},
   "outputs": [
    {
     "name": "stdout",
     "output_type": "stream",
     "text": [
      "DEYANN Men Blue Solid Kurta with Patiala\n",
      "DEYANN Men Navy Blue Solid Kurta with Patiala\n",
      "DEYANN Men Navy Blue Solid Kurta with Patiala\n",
      "DEYANN Men Cream-Coloured & Blue Solid Kurta with Patiala Set\n",
      "DEYANN Men Yellow & Blue Solid Kurta with Patiala\n"
     ]
    }
   ],
   "source": [
    "recommend('DEYANN Men Copper-Coloured & Blue Solid Kurta with Patiala Pant')"
   ]
  },
  {
   "cell_type": "code",
   "execution_count": 25,
   "id": "d579f845",
   "metadata": {},
   "outputs": [],
   "source": [
    "#new_df[new_df['title']==data].index[1]"
   ]
  },
  {
   "cell_type": "code",
   "execution_count": null,
   "id": "4a495217",
   "metadata": {},
   "outputs": [],
   "source": []
  }
 ],
 "metadata": {
  "kernelspec": {
   "display_name": "Python 3 (ipykernel)",
   "language": "python",
   "name": "python3"
  },
  "language_info": {
   "codemirror_mode": {
    "name": "ipython",
    "version": 3
   },
   "file_extension": ".py",
   "mimetype": "text/x-python",
   "name": "python",
   "nbconvert_exporter": "python",
   "pygments_lexer": "ipython3",
   "version": "3.10.9"
  }
 },
 "nbformat": 4,
 "nbformat_minor": 5
}
